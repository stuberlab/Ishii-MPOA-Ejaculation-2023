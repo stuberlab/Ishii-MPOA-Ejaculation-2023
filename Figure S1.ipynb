{
 "cells": [
  {
   "cell_type": "code",
   "execution_count": 2,
   "metadata": {},
   "outputs": [],
   "source": [
    "import os\n",
    "import pandas as pd \n",
    "import matplotlib.pyplot as plt\n",
    "import numpy as np\n",
    "import seaborn as sns\n",
    "from datetime import datetime\n",
    "import math\n",
    "import matplotlib\n",
    "import statsmodels.api as sm\n",
    "from statsmodels.formula.api import ols\n",
    "from statsmodels.stats.multicomp import pairwise_tukeyhsd\n",
    "from scipy.stats import wilcoxon\n",
    "from scipy.stats import ttest_rel\n",
    "from scipy.stats import mannwhitneyu\n",
    "import pickle\n",
    "#important for text to be detected when importing saved figures into illustrator\n",
    "matplotlib.rcParams['pdf.fonttype']=42\n",
    "matplotlib.rcParams['ps.fonttype']=42"
   ]
  },
  {
   "cell_type": "code",
   "execution_count": null,
   "metadata": {},
   "outputs": [],
   "source": [
    "rootpath = r\"...\\Data\\Figure 1 and S1\"\n",
    "figurepath = os.path.join(rootpath,\"figure\")\n",
    "metapath = os.path.join(rootpath,\"meta\")\n",
    "datapath = os.path.join(rootpath,\"data\")\n",
    "statspath = os.path.join(rootpath,\"stats\")\n",
    "for x in [figurepath,datapath,statspath]:\n",
    "    if not os.path.exists(x):\n",
    "        os.mkdir(x)"
   ]
  },
  {
   "cell_type": "code",
   "execution_count": 4,
   "metadata": {},
   "outputs": [],
   "source": [
    "# Load the meta data\n",
    "female_self_pacaed_sexual_behavior_meta = pd.read_csv(os.path.join(metapath,'FigureS1_meta.csv'),index_col = False)"
   ]
  },
  {
   "cell_type": "code",
   "execution_count": null,
   "metadata": {},
   "outputs": [],
   "source": [
    "# Excel file to store statistical values for manuscript\n",
    "manuscript_statistic_filepath = os.path.join(r\"...\\meta\",\"manuscript_statistic.csv\")\n",
    "manuscript_statistic_file = pd.read_csv(manuscript_statistic_filepath,index_col = False)"
   ]
  },
  {
   "cell_type": "markdown",
   "metadata": {},
   "source": [
    "# Figure S1A"
   ]
  },
  {
   "cell_type": "code",
   "execution_count": 6,
   "metadata": {},
   "outputs": [],
   "source": [
    "# Figure label\n",
    "figlabel = 'FigureS1A'\n",
    "variable = 'Number_of_Isolation_zone_entry_per_10min'\n"
   ]
  },
  {
   "cell_type": "code",
   "execution_count": 7,
   "metadata": {},
   "outputs": [],
   "source": [
    "# read data file\n",
    "group_df = pd.read_csv(os.path.join(datapath,\"group_df_virgin_SE.csv\"),index_col = None)"
   ]
  },
  {
   "cell_type": "code",
   "execution_count": 8,
   "metadata": {},
   "outputs": [
    {
     "name": "stderr",
     "output_type": "stream",
     "text": [
      "C:\\Users\\stuberadmin\\AppData\\Local\\Temp;\\ipykernel_51796\\3833695590.py:2: FutureWarning: Passing `palette` without assigning `hue` is deprecated.\n",
      "  sns.swarmplot(data = group_df[group_df.State == 'Pre_Ejaculation'],\\\n"
     ]
    },
    {
     "data": {
      "image/png": "[encoded data removed]",
      "text/plain": [
       "<Figure size 100x250 with 1 Axes>"
      ]
     },
     "metadata": {},
     "output_type": "display_data"
    }
   ],
   "source": [
    "\n",
    "fig,axs = plt.subplots(1,1,figsize = (1,2.5))\n",
    "sns.swarmplot(data = group_df[group_df.State == 'Pre_Ejaculation'],\\\n",
    "            x = 'Estrus_state',y = variable,order = ['Virgin','SE'],ax = axs,\n",
    "            palette = ['cyan','orange'], marker=\"$\\circ$\", ec=\"face\",s = 8)\n",
    "sns.barplot(data = group_df[group_df.State == 'Pre_Ejaculation'],\\\n",
    "              x = 'Estrus_state',y = variable,order = ['Virgin','SE'],ax = axs,errwidth = 1)\n",
    "#axs.set_ylim(0,20)\n",
    "sns.despine()\n",
    "axs.set_ylabel('# of transition per 10 min')\n",
    "axs.set_xlabel('')\n",
    "fig.savefig(os.path.join(figurepath,f'{figlabel}.png'),bbox_inches='tight',dpi = 216)\n",
    "fig.savefig(os.path.join(figurepath,f'{figlabel}.pdf'),bbox_inches='tight')     \n"
   ]
  },
  {
   "cell_type": "code",
   "execution_count": 9,
   "metadata": {},
   "outputs": [
    {
     "name": "stdout",
     "output_type": "stream",
     "text": [
      "Number_of_Isolation_zone_entry_per_10min 0.04112554112554113\n"
     ]
    }
   ],
   "source": [
    "#perform two-way mannwhitneyu\n",
    "group1 = 'Virgin'\n",
    "group2 = 'SE'\n",
    "\n",
    "mannwhitneyu_stats = mannwhitneyu(x = group_df[(group_df.State == 'Pre_Ejaculation')&(group_df.Estrus_state == group1)][variable].values,\n",
    "        y = group_df[(group_df.State == 'Pre_Ejaculation')&(group_df.Estrus_state == group2)][variable].values)\n",
    "\n",
    "# Extract the test statistic and p-value\n",
    "statistic,pvalue = mannwhitneyu_stats\n",
    "\n",
    "\n",
    "print(variable,pvalue)\n",
    "\n",
    "\n",
    "\n",
    "# Save the mannwhitneyu results to a .pickle file\n",
    "with open(os.path.join(statspath, f'{figlabel}_mannwhitneyu.pickle'), 'wb') as handle:\n",
    "    pickle.dump(mannwhitneyu_stats, handle, protocol=pickle.HIGHEST_PROTOCOL)\n",
    "\n",
    "# Determine the sample size for each group (often shown as \"n\" in non-parametric tests)\n",
    "n_1 = len(group_df[(group_df.State == 'Pre_Ejaculation')&(group_df.Estrus_state == group1)])\n",
    "n_2 = len(group_df[(group_df.State == 'Pre_Ejaculation')&(group_df.Estrus_state == group2)])\n",
    "\n",
    "# Append the mannwhitneyu result to manuscript_statistic_file\n",
    "mannwhitneyu_data = pd.DataFrame([{\n",
    "    'Figure': figlabel,\n",
    "    'variable':variable,\n",
    "    'Type of Test': 'Mann-Whitney U rank test',\n",
    "    'Detail': f'{group1} vs {group2}',\n",
    "    'statistic description': f'MW(n={n_1}, {n_2})',  # Showing \"n\" for each group\n",
    "    'statistic': statistic,\n",
    "    'p Value': pvalue\n",
    "}])\n",
    "\n",
    "# Concatenate to the results DataFrame\n",
    "manuscript_statistic_file = pd.concat([manuscript_statistic_file, mannwhitneyu_data], ignore_index=True)\n",
    "\n",
    "# Show the updated DataFrame\n",
    "#print(manuscript_statistic_file)"
   ]
  },
  {
   "cell_type": "markdown",
   "metadata": {},
   "source": [
    "# Figure S1B"
   ]
  },
  {
   "cell_type": "code",
   "execution_count": 10,
   "metadata": {},
   "outputs": [],
   "source": [
    "# Figure label\n",
    "figlabel = 'FigureS1B'\n",
    "variable = 'Time_in_Isolation_zone_per_10min'\n"
   ]
  },
  {
   "cell_type": "code",
   "execution_count": 11,
   "metadata": {},
   "outputs": [],
   "source": [
    "# read data file\n",
    "group_df = pd.read_csv(os.path.join(datapath,\"group_df_virgin_SE.csv\"),index_col = None)"
   ]
  },
  {
   "cell_type": "code",
   "execution_count": 12,
   "metadata": {},
   "outputs": [
    {
     "name": "stderr",
     "output_type": "stream",
     "text": [
      "C:\\Users\\stuberadmin\\AppData\\Local\\Temp;\\ipykernel_51796\\3467355736.py:2: FutureWarning: Passing `palette` without assigning `hue` is deprecated.\n",
      "  sns.swarmplot(data = group_df[group_df.State == 'Pre_Ejaculation'],\\\n",
      "c:\\Users\\stuberadmin\\anaconda3\\envs\\cellpose\\lib\\site-packages\\seaborn\\categorical.py:3544: UserWarning: 33.3% of the points cannot be placed; you may want to decrease the size of the markers or use stripplot.\n",
      "  warnings.warn(msg, UserWarning)\n"
     ]
    },
    {
     "data": {
      "image/png": "[encoded data removed]",
      "text/plain": [
       "<Figure size 100x250 with 1 Axes>"
      ]
     },
     "metadata": {},
     "output_type": "display_data"
    }
   ],
   "source": [
    "\n",
    "fig,axs = plt.subplots(1,1,figsize = (1,2.5))\n",
    "sns.swarmplot(data = group_df[group_df.State == 'Pre_Ejaculation'],\\\n",
    "            x = 'Estrus_state',y = variable,order = ['Virgin','SE'],ax = axs,\n",
    "            palette = ['cyan','orange'], marker=\"$\\circ$\", ec=\"face\",s = 8)\n",
    "sns.barplot(data = group_df[group_df.State == 'Pre_Ejaculation'],\\\n",
    "              x = 'Estrus_state',y = variable,order = ['Virgin','SE'],ax = axs,errwidth = 1)\n",
    "#axs.set_ylim(0,20)\n",
    "sns.despine()\n",
    "axs.set_ylabel('Ave. time in Isolation zone (s)')\n",
    "axs.set_xlabel('')\n",
    "fig.savefig(os.path.join(figurepath,f'{figlabel}.png'),bbox_inches='tight',dpi = 216)\n",
    "fig.savefig(os.path.join(figurepath,f'{figlabel}.pdf'),bbox_inches='tight')     \n"
   ]
  },
  {
   "cell_type": "code",
   "execution_count": 13,
   "metadata": {},
   "outputs": [
    {
     "name": "stdout",
     "output_type": "stream",
     "text": [
      "Time_in_Isolation_zone_per_10min 0.025974025974025976\n"
     ]
    }
   ],
   "source": [
    "#perform two-way mannwhitneyu\n",
    "group1 = 'Virgin'\n",
    "group2 = 'SE'\n",
    "\n",
    "mannwhitneyu_stats = mannwhitneyu(x = group_df[(group_df.State == 'Pre_Ejaculation')&(group_df.Estrus_state == group1)][variable].values,\n",
    "        y = group_df[(group_df.State == 'Pre_Ejaculation')&(group_df.Estrus_state == group2)][variable].values)\n",
    "\n",
    "# Extract the test statistic and p-value\n",
    "statistic,pvalue = mannwhitneyu_stats\n",
    "\n",
    "\n",
    "print(variable,pvalue)\n",
    "\n",
    "\n",
    "\n",
    "# Save the mannwhitneyu results to a .pickle file\n",
    "with open(os.path.join(statspath, f'{figlabel}_mannwhitneyu.pickle'), 'wb') as handle:\n",
    "    pickle.dump(mannwhitneyu_stats, handle, protocol=pickle.HIGHEST_PROTOCOL)\n",
    "\n",
    "# Determine the sample size for each group (often shown as \"n\" in non-parametric tests)\n",
    "n_1 = len(group_df[(group_df.State == 'Pre_Ejaculation')&(group_df.Estrus_state == group1)])\n",
    "n_2 = len(group_df[(group_df.State == 'Pre_Ejaculation')&(group_df.Estrus_state == group2)])\n",
    "\n",
    "# Append the mannwhitneyu result to manuscript_statistic_file\n",
    "mannwhitneyu_data = pd.DataFrame([{\n",
    "    'Figure': figlabel,\n",
    "    'variable':variable,\n",
    "    'Type of Test': 'Mann-Whitney U rank test',\n",
    "    'Detail': f'{group1} vs {group2}',\n",
    "    'statistic description': f'MW(n={n_1}, {n_2})',  # Showing \"n\" for each group\n",
    "    'statistic': statistic,\n",
    "    'p Value': pvalue\n",
    "}])\n",
    "\n",
    "# Concatenate to the results DataFrame\n",
    "manuscript_statistic_file = pd.concat([manuscript_statistic_file, mannwhitneyu_data], ignore_index=True)\n",
    "\n",
    "# Show the updated DataFrame\n",
    "#print(manuscript_statistic_file)"
   ]
  },
  {
   "cell_type": "code",
   "execution_count": 14,
   "metadata": {},
   "outputs": [],
   "source": [
    "# Write the stats\n",
    "manuscript_statistic_file.to_csv(manuscript_statistic_filepath,index = False)"
   ]
  }
 ],
 "metadata": {
  "kernelspec": {
   "display_name": "cellpose",
   "language": "python",
   "name": "python3"
  },
  "language_info": {
   "codemirror_mode": {
    "name": "ipython",
    "version": 3
   },
   "file_extension": ".py",
   "mimetype": "text/x-python",
   "name": "python",
   "nbconvert_exporter": "python",
   "pygments_lexer": "ipython3",
   "version": "3.8.17"
  },
  "orig_nbformat": 4
 },
 "nbformat": 4,
 "nbformat_minor": 2
}
