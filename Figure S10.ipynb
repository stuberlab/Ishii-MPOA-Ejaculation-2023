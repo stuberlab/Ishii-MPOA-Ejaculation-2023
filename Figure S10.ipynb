{
 "cells": [
  {
   "cell_type": "code",
   "execution_count": 1,
   "metadata": {},
   "outputs": [],
   "source": [
    "import os\n",
    "import pandas as pd \n",
    "import matplotlib.pyplot as plt\n",
    "import numpy as np\n",
    "import seaborn as sns\n",
    "from datetime import datetime\n",
    "import peakutils\n",
    "import math\n",
    "#from moviepy.editor import *\n",
    "import cv2\n",
    "import scipy.stats as stats\n",
    "#important for text to be detected when importing saved figures into illustrator\n",
    "import matplotlib\n",
    "matplotlib.rcParams['pdf.fonttype']=42\n",
    "matplotlib.rcParams['ps.fonttype']=42"
   ]
  },
  {
   "cell_type": "code",
   "execution_count": null,
   "metadata": {},
   "outputs": [],
   "source": [
    "rootpath = r\"...\\Data\\Figure S10\"\n",
    "figurepath = os.path.join(rootpath,\"figure\")\n",
    "metapath = os.path.join(rootpath,\"meta\")\n",
    "datapath = os.path.join(rootpath,\"data\")\n",
    "statspath = os.path.join(rootpath,\"stats\")\n",
    "for x in [figurepath,datapath,metapath,statspath]:\n",
    "    if not os.path.exists(x):\n",
    "        os.mkdir(x)"
   ]
  },
  {
   "cell_type": "markdown",
   "metadata": {},
   "source": [
    "# Home cage analysis"
   ]
  },
  {
   "cell_type": "code",
   "execution_count": 3,
   "metadata": {},
   "outputs": [],
   "source": [
    "# Read the data containing the number of behavior events.\n",
    "homecage_summary_df = pd.read_csv(os.path.join(datapath,\"homecage_summary_df.csv\"),index_col = None)"
   ]
  },
  {
   "cell_type": "code",
   "execution_count": null,
   "metadata": {},
   "outputs": [],
   "source": [
    "# Excel file to store statistical values for manuscript\n",
    "manuscript_statistic_filepath = os.path.join(r\"...\\meta\",\"manuscript_statistic.csv\")\n",
    "manuscript_statistic_file = pd.read_csv(manuscript_statistic_filepath,index_col = False)"
   ]
  },
  {
   "cell_type": "markdown",
   "metadata": {},
   "source": [
    "## Figure S10C"
   ]
  },
  {
   "cell_type": "code",
   "execution_count": 5,
   "metadata": {},
   "outputs": [
    {
     "name": "stderr",
     "output_type": "stream",
     "text": [
      "C:\\Users\\stuberadmin\\AppData\\Local\\Temp;\\ipykernel_28168\\1966657781.py:11: FutureWarning: Passing `palette` without assigning `hue` is deprecated.\n",
      "  sns.swarmplot(data = homecage_summary_df,\n",
      "c:\\Users\\stuberadmin\\anaconda3\\envs\\cellpose\\lib\\site-packages\\seaborn\\categorical.py:3544: UserWarning: 16.7% of the points cannot be placed; you may want to decrease the size of the markers or use stripplot.\n",
      "  warnings.warn(msg, UserWarning)\n",
      "c:\\Users\\stuberadmin\\anaconda3\\envs\\cellpose\\lib\\site-packages\\seaborn\\categorical.py:3544: UserWarning: 50.0% of the points cannot be placed; you may want to decrease the size of the markers or use stripplot.\n",
      "  warnings.warn(msg, UserWarning)\n"
     ]
    },
    {
     "data": {
      "image/png": "[encoded data removed]",
      "text/plain": [
       "<Figure size 200x200 with 1 Axes>"
      ]
     },
     "metadata": {},
     "output_type": "display_data"
    }
   ],
   "source": [
    "variable = 'Sniff_event'\n",
    "figure_key = 'S10C'\n",
    "\n",
    "fig,axs = plt.subplots(1,1,figsize = (2,2))\n",
    "sns.barplot(data = homecage_summary_df,\n",
    "            x = 'Stim_Group',\n",
    "            y = variable,\n",
    "            ax = axs,\n",
    "            order = ['Post_ejaculatory_eYFP','Appetitive_hM3Dq','Consummatory_hM3Dq','Post_ejaculatory_hM3Dq'],\n",
    "            palette = ['gray','green','blue','orange',],errwidth = 1, errcolor = 'black')\n",
    "sns.swarmplot(data = homecage_summary_df,\n",
    "            x = 'Stim_Group',\n",
    "            y = variable,\n",
    "            ax = axs,\n",
    "            order = ['Post_ejaculatory_eYFP','Appetitive_hM3Dq','Consummatory_hM3Dq','Post_ejaculatory_hM3Dq'],\n",
    "        facecolors='none',palette = ['black','lime','cyan','orange'], marker=\"$\\circ$\", ec=\"face\",s = 8)\n",
    "sns.despine()\n",
    "axs.set_xlabel('')\n",
    "axs.set_ylabel('# of Sniff')\n",
    "#[ax.set_title(title,fontsize = 10,color = color) for ax,title,color in zip(axs,['Comp.\\neYFP', 'App.\\nhM3Dq', 'Cons.\\nhM3Dq', 'Comp.\\nhM3Dq'],['gray','green','blue','orange'])]\n",
    "axs.set_xticklabels(['Comp.\\neYFP','App.\\nhM3Dq','Cons.\\nhM3Dq','Comp.\\nhM3Dq'],rotation = -45)\n",
    "fig.savefig(os.path.join(figurepath,f'Figure{figure_key}.png'),dpi = 216,bbox_inches ='tight')\n",
    "fig.savefig(os.path.join(figurepath,f'Figure{figure_key}.pdf'),bbox_inches ='tight')"
   ]
  },
  {
   "cell_type": "code",
   "execution_count": 6,
   "metadata": {},
   "outputs": [
    {
     "name": "stdout",
     "output_type": "stream",
     "text": [
      "Sniff_event\n",
      "Control vs Appetitive, 1.0, False\n",
      "Control vs Consummatory, 0.2581319647658448, False\n",
      "Control vs Post_ejaculatory, 0.007164171072727588, True\n",
      "#####\n"
     ]
    }
   ],
   "source": [
    "import scipy.stats as stats\n",
    "import statsmodels.stats.multitest as multitest\n",
    "\n",
    "cnt = homecage_summary_df.loc[homecage_summary_df.Stim_Group == 'Post_ejaculatory_eYFP',variable].values\n",
    "app = homecage_summary_df.loc[homecage_summary_df.Stim_Group == 'Appetitive_hM3Dq',variable].values\n",
    "cons = homecage_summary_df.loc[homecage_summary_df.Stim_Group == 'Consummatory_hM3Dq',variable].values\n",
    "comp = homecage_summary_df.loc[homecage_summary_df.Stim_Group == 'Post_ejaculatory_hM3Dq',variable].values\n",
    "\n",
    "\n",
    "statistic_app,cnt_app_p = stats.mannwhitneyu(cnt,app)\n",
    "statistic_cons,cnt_cons_p = stats.mannwhitneyu(cnt,cons)\n",
    "statistic_comp,cnt_comp_p = stats.mannwhitneyu(cnt,comp)\n",
    "\n",
    "#__,comp_app_p = stats.mannwhitneyu(comp,app)\n",
    "\n",
    "pvals = [cnt_app_p,cnt_cons_p,cnt_comp_p,]\n",
    "statistics = [statistic_app,statistic_cons,statistic_comp]\n",
    "\n",
    "# Run multiple comparison correction using Bonferoni correction\n",
    "behavior_multiple_ttests = multitest.multipletests(pvals,method = 'bonferroni')\n",
    "(significance,corr_pvalues,__,__) = behavior_multiple_ttests\n",
    "\n",
    "# save results\n",
    "import pickle\n",
    "with open(os.path.join(statspath,f'Figure{figure_key}_multiple_ttests.pickle'), 'wb') as handle:\n",
    "    pickle.dump(behavior_multiple_ttests, handle, protocol=pickle.HIGHEST_PROTOCOL)\n",
    "\n",
    "print(variable)\n",
    "print(', '.join(['Control vs Appetitive',str(corr_pvalues[0]),str(corr_pvalues[0]<0.05)]))\n",
    "print(', '.join(['Control vs Consummatory',str(corr_pvalues[1]),str(corr_pvalues[1]<0.05)]))\n",
    "print(', '.join(['Control vs Post_ejaculatory',str(corr_pvalues[2]),str(corr_pvalues[2]<0.05)]))\n",
    "\n",
    "print('#####')\n",
    "\n",
    "for idx, group2 in enumerate(['Appetitive_hM3Dq','Consummatory_hM3Dq','Post_ejaculatory_hM3Dq']):\n",
    "    # Determine the sample size for each group (often shown as \"n\" in non-parametric tests)\n",
    "    cnt = homecage_summary_df.loc[homecage_summary_df.Stim_Group == 'Post_ejaculatory_eYFP',variable].values\n",
    "    test = homecage_summary_df.loc[homecage_summary_df.Stim_Group == group2,variable].values\n",
    "    n_1 = len(cnt)\n",
    "    n_2 = len(test)\n",
    "\n",
    "    # Append the mannwhitneyu result to manuscript_statistic_file\n",
    "    mannwhitneyu_data = pd.DataFrame([{\n",
    "        'Figure': f'Figure{figure_key}',\n",
    "        'variable':variable,\n",
    "        'Type of Test': 'Mann-Whitney U rank test',\n",
    "        'Detail': f'Post_ejaculatory_eYFP vs {group2}',\n",
    "        'statistic description': f'MW(n={n_1}, {n_2})',  # Showing \"n\" for each group\n",
    "        'statistic': statistics[idx],\n",
    "        'p Value': corr_pvalues[idx]\n",
    "    }])\n",
    "\n",
    "    # Concatenate to the results DataFrame\n",
    "    manuscript_statistic_file = pd.concat([manuscript_statistic_file, mannwhitneyu_data], ignore_index=True)"
   ]
  },
  {
   "cell_type": "markdown",
   "metadata": {},
   "source": [
    "# Figure S10D"
   ]
  },
  {
   "cell_type": "code",
   "execution_count": 7,
   "metadata": {},
   "outputs": [
    {
     "name": "stderr",
     "output_type": "stream",
     "text": [
      "C:\\Users\\stuberadmin\\AppData\\Local\\Temp;\\ipykernel_28168\\348072022.py:11: FutureWarning: Passing `palette` without assigning `hue` is deprecated.\n",
      "  sns.swarmplot(data = homecage_summary_df,\n"
     ]
    },
    {
     "data": {
      "image/png": "[encoded data removed]",
      "text/plain": [
       "<Figure size 200x200 with 1 Axes>"
      ]
     },
     "metadata": {},
     "output_type": "display_data"
    }
   ],
   "source": [
    "variable = 'Mount_event'\n",
    "figure_key = 'S10D'\n",
    "\n",
    "fig,axs = plt.subplots(1,1,figsize = (2,2))\n",
    "sns.barplot(data = homecage_summary_df,\n",
    "            x = 'Stim_Group',\n",
    "            y = variable,\n",
    "            ax = axs,\n",
    "            order = ['Post_ejaculatory_eYFP','Appetitive_hM3Dq','Consummatory_hM3Dq','Post_ejaculatory_hM3Dq'],\n",
    "            palette = ['gray','green','blue','orange',],errwidth = 1, errcolor = 'black')\n",
    "sns.swarmplot(data = homecage_summary_df,\n",
    "            x = 'Stim_Group',\n",
    "            y = variable,\n",
    "            ax = axs,\n",
    "            order = ['Post_ejaculatory_eYFP','Appetitive_hM3Dq','Consummatory_hM3Dq','Post_ejaculatory_hM3Dq'],\n",
    "        facecolors='none',palette = ['black','lime','cyan','orange'], marker=\"$\\circ$\", ec=\"face\",s = 8)\n",
    "sns.despine()\n",
    "axs.set_xlabel('')\n",
    "axs.set_ylabel('# of Mount')\n",
    "#[ax.set_title(title,fontsize = 10,color = color) for ax,title,color in zip(axs,['Comp.\\neYFP', 'App.\\nhM3Dq', 'Cons.\\nhM3Dq', 'Comp.\\nhM3Dq'],['gray','green','blue','orange'])]\n",
    "axs.set_xticklabels(['Comp.\\neYFP','App.\\nhM3Dq','Cons.\\nhM3Dq','Comp.\\nhM3Dq'],rotation = -45)\n",
    "fig.savefig(os.path.join(figurepath,f'Figure{figure_key}.png'),dpi = 216,bbox_inches ='tight')\n",
    "fig.savefig(os.path.join(figurepath,f'Figure{figure_key}.pdf'),bbox_inches ='tight')"
   ]
  },
  {
   "cell_type": "code",
   "execution_count": 8,
   "metadata": {},
   "outputs": [
    {
     "name": "stdout",
     "output_type": "stream",
     "text": [
      "Mount_event\n",
      "Control vs Appetitive, 1.0, False\n",
      "Control vs Consummatory, 1.0, False\n",
      "Control vs Post_ejaculatory, 0.41161697927903484, False\n",
      "#####\n"
     ]
    }
   ],
   "source": [
    "import scipy.stats as stats\n",
    "import statsmodels.stats.multitest as multitest\n",
    "\n",
    "cnt = homecage_summary_df.loc[homecage_summary_df.Stim_Group == 'Post_ejaculatory_eYFP',variable].values\n",
    "app = homecage_summary_df.loc[homecage_summary_df.Stim_Group == 'Appetitive_hM3Dq',variable].values\n",
    "cons = homecage_summary_df.loc[homecage_summary_df.Stim_Group == 'Consummatory_hM3Dq',variable].values\n",
    "comp = homecage_summary_df.loc[homecage_summary_df.Stim_Group == 'Post_ejaculatory_hM3Dq',variable].values\n",
    "\n",
    "\n",
    "statistic_app,cnt_app_p = stats.mannwhitneyu(cnt,app)\n",
    "statistic_cons,cnt_cons_p = stats.mannwhitneyu(cnt,cons)\n",
    "statistic_comp,cnt_comp_p = stats.mannwhitneyu(cnt,comp)\n",
    "\n",
    "#__,comp_app_p = stats.mannwhitneyu(comp,app)\n",
    "\n",
    "pvals = [cnt_app_p,cnt_cons_p,cnt_comp_p,]\n",
    "statistics = [statistic_app,statistic_cons,statistic_comp]\n",
    "\n",
    "# Run multiple comparison correction using Bonferoni correction\n",
    "behavior_multiple_ttests = multitest.multipletests(pvals,method = 'bonferroni')\n",
    "(significance,corr_pvalues,__,__) = behavior_multiple_ttests\n",
    "\n",
    "# save results\n",
    "import pickle\n",
    "with open(os.path.join(statspath,f'Figure{figure_key}_multiple_ttests.pickle'), 'wb') as handle:\n",
    "    pickle.dump(behavior_multiple_ttests, handle, protocol=pickle.HIGHEST_PROTOCOL)\n",
    "\n",
    "print(variable)\n",
    "print(', '.join(['Control vs Appetitive',str(corr_pvalues[0]),str(corr_pvalues[0]<0.05)]))\n",
    "print(', '.join(['Control vs Consummatory',str(corr_pvalues[1]),str(corr_pvalues[1]<0.05)]))\n",
    "print(', '.join(['Control vs Post_ejaculatory',str(corr_pvalues[2]),str(corr_pvalues[2]<0.05)]))\n",
    "\n",
    "print('#####')\n",
    "\n",
    "for idx, group2 in enumerate(['Appetitive_hM3Dq','Consummatory_hM3Dq','Post_ejaculatory_hM3Dq']):\n",
    "    # Determine the sample size for each group (often shown as \"n\" in non-parametric tests)\n",
    "    cnt = homecage_summary_df.loc[homecage_summary_df.Stim_Group == 'Post_ejaculatory_eYFP',variable].values\n",
    "    test = homecage_summary_df.loc[homecage_summary_df.Stim_Group == group2,variable].values\n",
    "    n_1 = len(cnt)\n",
    "    n_2 = len(test)\n",
    "\n",
    "    # Append the mannwhitneyu result to manuscript_statistic_file\n",
    "    mannwhitneyu_data = pd.DataFrame([{\n",
    "        'Figure': f'Figure{figure_key}',\n",
    "        'variable':variable,\n",
    "        'Type of Test': 'Mann-Whitney U rank test',\n",
    "        'Detail': f'Post_ejaculatory_eYFP vs {group2}',\n",
    "        'statistic description': f'MW(n={n_1}, {n_2})',  # Showing \"n\" for each group\n",
    "        'statistic': statistics[idx],\n",
    "        'p Value': corr_pvalues[idx]\n",
    "    }])\n",
    "\n",
    "    # Concatenate to the results DataFrame\n",
    "    manuscript_statistic_file = pd.concat([manuscript_statistic_file, mannwhitneyu_data], ignore_index=True)"
   ]
  },
  {
   "cell_type": "markdown",
   "metadata": {},
   "source": [
    "# Figure S10E"
   ]
  },
  {
   "cell_type": "code",
   "execution_count": 9,
   "metadata": {},
   "outputs": [
    {
     "name": "stderr",
     "output_type": "stream",
     "text": [
      "C:\\Users\\stuberadmin\\AppData\\Local\\Temp;\\ipykernel_28168\\123329730.py:11: FutureWarning: Passing `palette` without assigning `hue` is deprecated.\n",
      "  sns.swarmplot(data = homecage_summary_df,\n",
      "c:\\Users\\stuberadmin\\anaconda3\\envs\\cellpose\\lib\\site-packages\\seaborn\\categorical.py:3544: UserWarning: 50.0% of the points cannot be placed; you may want to decrease the size of the markers or use stripplot.\n",
      "  warnings.warn(msg, UserWarning)\n"
     ]
    },
    {
     "data": {
      "image/png": "[encoded data removed]",
      "text/plain": [
       "<Figure size 200x200 with 1 Axes>"
      ]
     },
     "metadata": {},
     "output_type": "display_data"
    }
   ],
   "source": [
    "variable = 'Intromission_event'\n",
    "figure_key = 'S10E'\n",
    "\n",
    "fig,axs = plt.subplots(1,1,figsize = (2,2))\n",
    "sns.barplot(data = homecage_summary_df,\n",
    "            x = 'Stim_Group',\n",
    "            y = variable,\n",
    "            ax = axs,\n",
    "            order = ['Post_ejaculatory_eYFP','Appetitive_hM3Dq','Consummatory_hM3Dq','Post_ejaculatory_hM3Dq'],\n",
    "            palette = ['gray','green','blue','orange',],errwidth = 1, errcolor = 'black')\n",
    "sns.swarmplot(data = homecage_summary_df,\n",
    "            x = 'Stim_Group',\n",
    "            y = variable,\n",
    "            ax = axs,\n",
    "            order = ['Post_ejaculatory_eYFP','Appetitive_hM3Dq','Consummatory_hM3Dq','Post_ejaculatory_hM3Dq'],\n",
    "        facecolors='none',palette = ['black','lime','cyan','orange'], marker=\"$\\circ$\", ec=\"face\",s = 8)\n",
    "sns.despine()\n",
    "axs.set_xlabel('')\n",
    "axs.set_ylabel('# of Intromission')\n",
    "#[ax.set_title(title,fontsize = 10,color = color) for ax,title,color in zip(axs,['Comp.\\neYFP', 'App.\\nhM3Dq', 'Cons.\\nhM3Dq', 'Comp.\\nhM3Dq'],['gray','green','blue','orange'])]\n",
    "axs.set_xticklabels(['Comp.\\neYFP','App.\\nhM3Dq','Cons.\\nhM3Dq','Comp.\\nhM3Dq'],rotation = -45)\n",
    "fig.savefig(os.path.join(figurepath,f'Figure{figure_key}.png'),dpi = 216,bbox_inches ='tight')\n",
    "fig.savefig(os.path.join(figurepath,f'Figure{figure_key}.pdf'),bbox_inches ='tight')"
   ]
  },
  {
   "cell_type": "code",
   "execution_count": 10,
   "metadata": {},
   "outputs": [
    {
     "name": "stdout",
     "output_type": "stream",
     "text": [
      "Intromission_event\n",
      "Control vs Appetitive, 1.0, False\n",
      "Control vs Consummatory, 0.30419580419580416, False\n",
      "Control vs Post_ejaculatory, 0.016514518382164688, True\n",
      "#####\n"
     ]
    }
   ],
   "source": [
    "import scipy.stats as stats\n",
    "import statsmodels.stats.multitest as multitest\n",
    "\n",
    "cnt = homecage_summary_df.loc[homecage_summary_df.Stim_Group == 'Post_ejaculatory_eYFP',variable].values\n",
    "app = homecage_summary_df.loc[homecage_summary_df.Stim_Group == 'Appetitive_hM3Dq',variable].values\n",
    "cons = homecage_summary_df.loc[homecage_summary_df.Stim_Group == 'Consummatory_hM3Dq',variable].values\n",
    "comp = homecage_summary_df.loc[homecage_summary_df.Stim_Group == 'Post_ejaculatory_hM3Dq',variable].values\n",
    "\n",
    "\n",
    "statistic_app,cnt_app_p = stats.mannwhitneyu(cnt,app)\n",
    "statistic_cons,cnt_cons_p = stats.mannwhitneyu(cnt,cons)\n",
    "statistic_comp,cnt_comp_p = stats.mannwhitneyu(cnt,comp)\n",
    "\n",
    "#__,comp_app_p = stats.mannwhitneyu(comp,app)\n",
    "\n",
    "pvals = [cnt_app_p,cnt_cons_p,cnt_comp_p,]\n",
    "statistics = [statistic_app,statistic_cons,statistic_comp]\n",
    "\n",
    "# Run multiple comparison correction using Bonferoni correction\n",
    "behavior_multiple_ttests = multitest.multipletests(pvals,method = 'bonferroni')\n",
    "(significance,corr_pvalues,__,__) = behavior_multiple_ttests\n",
    "\n",
    "# save results\n",
    "import pickle\n",
    "with open(os.path.join(statspath,f'Figure{figure_key}_multiple_ttests.pickle'), 'wb') as handle:\n",
    "    pickle.dump(behavior_multiple_ttests, handle, protocol=pickle.HIGHEST_PROTOCOL)\n",
    "\n",
    "print(variable)\n",
    "print(', '.join(['Control vs Appetitive',str(corr_pvalues[0]),str(corr_pvalues[0]<0.05)]))\n",
    "print(', '.join(['Control vs Consummatory',str(corr_pvalues[1]),str(corr_pvalues[1]<0.05)]))\n",
    "print(', '.join(['Control vs Post_ejaculatory',str(corr_pvalues[2]),str(corr_pvalues[2]<0.05)]))\n",
    "\n",
    "print('#####')\n",
    "\n",
    "for idx, group2 in enumerate(['Appetitive_hM3Dq','Consummatory_hM3Dq','Post_ejaculatory_hM3Dq']):\n",
    "    # Determine the sample size for each group (often shown as \"n\" in non-parametric tests)\n",
    "    cnt = homecage_summary_df.loc[homecage_summary_df.Stim_Group == 'Post_ejaculatory_eYFP',variable].values\n",
    "    test = homecage_summary_df.loc[homecage_summary_df.Stim_Group == group2,variable].values\n",
    "    n_1 = len(cnt)\n",
    "    n_2 = len(test)\n",
    "\n",
    "    # Append the mannwhitneyu result to manuscript_statistic_file\n",
    "    mannwhitneyu_data = pd.DataFrame([{\n",
    "        'Figure': f'Figure{figure_key}',\n",
    "        'variable':variable,\n",
    "        'Type of Test': 'Mann-Whitney U rank test',\n",
    "        'Detail': f'Post_ejaculatory_eYFP vs {group2}',\n",
    "        'statistic description': f'MW(n={n_1}, {n_2})',  # Showing \"n\" for each group\n",
    "        'statistic': statistics[idx],\n",
    "        'p Value': corr_pvalues[idx]\n",
    "    }])\n",
    "\n",
    "    # Concatenate to the results DataFrame\n",
    "    manuscript_statistic_file = pd.concat([manuscript_statistic_file, mannwhitneyu_data], ignore_index=True)"
   ]
  },
  {
   "cell_type": "markdown",
   "metadata": {},
   "source": [
    "# Figure S10F"
   ]
  },
  {
   "cell_type": "code",
   "execution_count": 11,
   "metadata": {},
   "outputs": [
    {
     "name": "stderr",
     "output_type": "stream",
     "text": [
      "C:\\Users\\stuberadmin\\AppData\\Local\\Temp;\\ipykernel_28168\\3356094323.py:11: FutureWarning: Passing `palette` without assigning `hue` is deprecated.\n",
      "  sns.swarmplot(data = homecage_summary_df,\n",
      "c:\\Users\\stuberadmin\\anaconda3\\envs\\cellpose\\lib\\site-packages\\seaborn\\categorical.py:3544: UserWarning: 25.0% of the points cannot be placed; you may want to decrease the size of the markers or use stripplot.\n",
      "  warnings.warn(msg, UserWarning)\n"
     ]
    },
    {
     "data": {
      "image/png": "[encoded data removed]",
      "text/plain": [
       "<Figure size 200x200 with 1 Axes>"
      ]
     },
     "metadata": {},
     "output_type": "display_data"
    }
   ],
   "source": [
    "variable = 'Receptive_score'\n",
    "figure_key = 'S10F'\n",
    "\n",
    "fig,axs = plt.subplots(1,1,figsize = (2,2))\n",
    "sns.barplot(data = homecage_summary_df,\n",
    "            x = 'Stim_Group',\n",
    "            y = variable,\n",
    "            ax = axs,\n",
    "            order = ['Post_ejaculatory_eYFP','Appetitive_hM3Dq','Consummatory_hM3Dq','Post_ejaculatory_hM3Dq'],\n",
    "            palette = ['gray','green','blue','orange',],errwidth = 1, errcolor = 'black')\n",
    "sns.swarmplot(data = homecage_summary_df,\n",
    "            x = 'Stim_Group',\n",
    "            y = variable,\n",
    "            ax = axs,\n",
    "            order = ['Post_ejaculatory_eYFP','Appetitive_hM3Dq','Consummatory_hM3Dq','Post_ejaculatory_hM3Dq'],\n",
    "        facecolors='none',palette = ['black','lime','cyan','orange'], marker=\"$\\circ$\", ec=\"face\",s = 8)\n",
    "sns.despine()\n",
    "axs.set_xlabel('')\n",
    "axs.set_ylabel('Receptive Score')\n",
    "#[ax.set_title(title,fontsize = 10,color = color) for ax,title,color in zip(axs,['Comp.\\neYFP', 'App.\\nhM3Dq', 'Cons.\\nhM3Dq', 'Comp.\\nhM3Dq'],['gray','green','blue','orange'])]\n",
    "axs.set_xticklabels(['Comp.\\neYFP','App.\\nhM3Dq','Cons.\\nhM3Dq','Comp.\\nhM3Dq'],rotation = -45)\n",
    "fig.savefig(os.path.join(figurepath,f'Figure{figure_key}.png'),dpi = 216,bbox_inches ='tight')\n",
    "fig.savefig(os.path.join(figurepath,f'Figure{figure_key}.pdf'),bbox_inches ='tight')"
   ]
  },
  {
   "cell_type": "code",
   "execution_count": 12,
   "metadata": {},
   "outputs": [
    {
     "name": "stdout",
     "output_type": "stream",
     "text": [
      "Receptive_score\n",
      "Control vs Appetitive, 1.0, False\n",
      "Control vs Consummatory, 0.18878430886890682, False\n",
      "Control vs Post_ejaculatory, 0.06256600345271464, False\n",
      "#####\n"
     ]
    }
   ],
   "source": [
    "import scipy.stats as stats\n",
    "import statsmodels.stats.multitest as multitest\n",
    "\n",
    "cnt = homecage_summary_df.loc[homecage_summary_df.Stim_Group == 'Post_ejaculatory_eYFP',variable].values\n",
    "app = homecage_summary_df.loc[homecage_summary_df.Stim_Group == 'Appetitive_hM3Dq',variable].values\n",
    "cons = homecage_summary_df.loc[homecage_summary_df.Stim_Group == 'Consummatory_hM3Dq',variable].values\n",
    "comp = homecage_summary_df.loc[homecage_summary_df.Stim_Group == 'Post_ejaculatory_hM3Dq',variable].values\n",
    "\n",
    "\n",
    "statistic_app,cnt_app_p = stats.mannwhitneyu(cnt,app)\n",
    "statistic_cons,cnt_cons_p = stats.mannwhitneyu(cnt,cons)\n",
    "statistic_comp,cnt_comp_p = stats.mannwhitneyu(cnt,comp)\n",
    "\n",
    "#__,comp_app_p = stats.mannwhitneyu(comp,app)\n",
    "\n",
    "pvals = [cnt_app_p,cnt_cons_p,cnt_comp_p,]\n",
    "statistics = [statistic_app,statistic_cons,statistic_comp]\n",
    "\n",
    "# Run multiple comparison correction using Bonferoni correction\n",
    "behavior_multiple_ttests = multitest.multipletests(pvals,method = 'bonferroni')\n",
    "(significance,corr_pvalues,__,__) = behavior_multiple_ttests\n",
    "\n",
    "# save results\n",
    "import pickle\n",
    "with open(os.path.join(statspath,f'Figure{figure_key}_multiple_ttests.pickle'), 'wb') as handle:\n",
    "    pickle.dump(behavior_multiple_ttests, handle, protocol=pickle.HIGHEST_PROTOCOL)\n",
    "\n",
    "print(variable)\n",
    "print(', '.join(['Control vs Appetitive',str(corr_pvalues[0]),str(corr_pvalues[0]<0.05)]))\n",
    "print(', '.join(['Control vs Consummatory',str(corr_pvalues[1]),str(corr_pvalues[1]<0.05)]))\n",
    "print(', '.join(['Control vs Post_ejaculatory',str(corr_pvalues[2]),str(corr_pvalues[2]<0.05)]))\n",
    "\n",
    "print('#####')\n",
    "\n",
    "for idx, group2 in enumerate(['Appetitive_hM3Dq','Consummatory_hM3Dq','Post_ejaculatory_hM3Dq']):\n",
    "    # Determine the sample size for each group (often shown as \"n\" in non-parametric tests)\n",
    "    cnt = homecage_summary_df.loc[homecage_summary_df.Stim_Group == 'Post_ejaculatory_eYFP',variable].values\n",
    "    test = homecage_summary_df.loc[homecage_summary_df.Stim_Group == group2,variable].values\n",
    "    n_1 = len(cnt)\n",
    "    n_2 = len(test)\n",
    "\n",
    "    # Append the mannwhitneyu result to manuscript_statistic_file\n",
    "    mannwhitneyu_data = pd.DataFrame([{\n",
    "        'Figure': f'Figure{figure_key}',\n",
    "        'variable':variable,\n",
    "        'Type of Test': 'Mann-Whitney U rank test',\n",
    "        'Detail': f'Post_ejaculatory_eYFP vs {group2}',\n",
    "        'statistic description': f'MW(n={n_1}, {n_2})',  # Showing \"n\" for each group\n",
    "        'statistic': statistics[idx],\n",
    "        'p Value': corr_pvalues[idx]\n",
    "    }])\n",
    "\n",
    "    # Concatenate to the results DataFrame\n",
    "    manuscript_statistic_file = pd.concat([manuscript_statistic_file, mannwhitneyu_data], ignore_index=True)"
   ]
  },
  {
   "cell_type": "markdown",
   "metadata": {},
   "source": [
    "# Conditional place preference analysis"
   ]
  },
  {
   "cell_type": "code",
   "execution_count": 13,
   "metadata": {},
   "outputs": [],
   "source": [
    "# Read the meta data\n",
    "metadf = pd.read_csv(os.path.join(metapath,\"TRAP_DREADD_CPP_meta.csv\"),index_col = False)"
   ]
  },
  {
   "cell_type": "code",
   "execution_count": 14,
   "metadata": {},
   "outputs": [],
   "source": [
    "# Read the result data exported from Ethovision\n",
    "behaviordf = pd.read_csv(os.path.join(datapath,\"CPP_behaviordf.csv\"),index_col = False)\n"
   ]
  },
  {
   "cell_type": "code",
   "execution_count": 15,
   "metadata": {},
   "outputs": [],
   "source": [
    "# Subset the data frame to post and pre results\n",
    "pretestdf = behaviordf.loc[behaviordf.Session == 'Pre-test',['ID','Clean_zone','Conditioned', 'Stim','State', 'Group','Stim_Group',\n",
    "        'CNO_side',\n",
    "                                             'Distance moved','Velocity','Zone_Frequency','Zone_Cumulative Duration','Zone_Latency']]\n",
    "posttestdf = behaviordf.loc[behaviordf.Session == 'Post-test',['ID','Clean_zone','Conditioned', 'Stim','State', 'Group','Stim_Group',\n",
    "          'CNO_side',\n",
    "                                             'Distance moved','Velocity','Zone_Frequency','Zone_Cumulative Duration','Zone_Latency']]"
   ]
  },
  {
   "cell_type": "code",
   "execution_count": 16,
   "metadata": {},
   "outputs": [],
   "source": [
    "# Calculate the Post - Pre results\n",
    "meta_columns = ['ID','Clean_zone','Conditioned', 'State', 'Stim','Group','Stim_Group','CNO_side']\n",
    "variable_columns = ['Distance moved','Velocity','Zone_Frequency','Zone_Cumulative Duration','Zone_Latency']\n",
    "deltatestdf = posttestdf.set_index(meta_columns) - pretestdf.set_index(meta_columns)\n",
    "deltatestdf = deltatestdf.reset_index()"
   ]
  },
  {
   "cell_type": "markdown",
   "metadata": {},
   "source": [
    "## Figure S10H"
   ]
  },
  {
   "cell_type": "code",
   "execution_count": 17,
   "metadata": {},
   "outputs": [
    {
     "name": "stderr",
     "output_type": "stream",
     "text": [
      "C:\\Users\\stuberadmin\\AppData\\Local\\Temp;\\ipykernel_28168\\1446438488.py:8: FutureWarning: Passing `palette` without assigning `hue` is deprecated.\n",
      "  sns.swarmplot(data = deltatestdf[deltatestdf.Conditioned],\n"
     ]
    },
    {
     "data": {
      "image/png": "[encoded data removed]",
      "text/plain": [
       "<Figure size 200x200 with 1 Axes>"
      ]
     },
     "metadata": {},
     "output_type": "display_data"
    }
   ],
   "source": [
    "variable = 'Zone_Cumulative Duration'\n",
    "figure_key = 'S10H'\n",
    "\n",
    "colors = ['blue','green','orange']\n",
    "\n",
    "v = np.round(deltatestdf[deltatestdf.Stim_Group == 'Post_ejaculatory_hM3Dq'][variable].std())*5\n",
    "fig,axs= plt.subplots(1,1,figsize= (2,2),sharex = True,sharey = True)\n",
    "sns.swarmplot(data = deltatestdf[deltatestdf.Conditioned],\n",
    "            x = 'Stim_Group',y = variable,order = ['Post_ejaculatory_eYFP','Appetitive_hM3Dq','Post_ejaculatory_hM3Dq'],ax = axs,\n",
    "            facecolors='none',palette = ['cyan','lime','orange'], marker=\"$\\circ$\", ec=\"face\",s = 8)\n",
    "sns.boxplot(data = deltatestdf[deltatestdf.Conditioned],\n",
    "            x = 'Stim_Group',y = variable,order = ['Post_ejaculatory_eYFP','Appetitive_hM3Dq','Post_ejaculatory_hM3Dq'],ax = axs,\n",
    "            palette = ['blue','green','orange'])\n",
    "axs.set_ylim(-v,v)\n",
    "axs.set_xlabel('')\n",
    "axs.set_ylabel('')\n",
    "axs.set_title(u'Δ Time in CNO zone (s)')\n",
    "axs.set_xticklabels(['Post-ejac. \\n eYFP','App. \\n hM3Dq','Post-ejac. \\n hM3Dq'],rotation = -45)\n",
    "sns.despine()\n",
    "fig.savefig(os.path.join(figurepath,f'Figure{figure_key}.png'),dpi = 216,bbox_inches ='tight')\n",
    "fig.savefig(os.path.join(figurepath,f'Figure{figure_key}.pdf'),bbox_inches ='tight')"
   ]
  },
  {
   "cell_type": "code",
   "execution_count": 18,
   "metadata": {},
   "outputs": [
    {
     "name": "stdout",
     "output_type": "stream",
     "text": [
      "Zone_Cumulative Duration\n",
      "Control vs Appetitive, 0.22027972027972026, False\n",
      "Control vs Post_ejaculatory, 1.0, False\n",
      "Post_ejaculatory vs Appetitive, 0.16223776223776223, False\n",
      "#####\n"
     ]
    }
   ],
   "source": [
    "import scipy.stats as stats\n",
    "import statsmodels.stats.multitest as multitest\n",
    "\n",
    "cnt = deltatestdf.loc[(deltatestdf.Conditioned)&(deltatestdf.Stim_Group == 'Post_ejaculatory_eYFP'),variable].values\n",
    "app = deltatestdf.loc[(deltatestdf.Conditioned)&(deltatestdf.Stim_Group == 'Appetitive_hM3Dq'),variable].values\n",
    "comp = deltatestdf.loc[(deltatestdf.Conditioned)&(deltatestdf.Stim_Group == 'Post_ejaculatory_hM3Dq'),variable].values\n",
    "\n",
    "statistic_cnt_app,cnt_app_p = stats.mannwhitneyu(cnt,app)\n",
    "statistic_cnt_comp,cnt_comp_p = stats.mannwhitneyu(cnt,comp)\n",
    "statistic_comp_app,comp_app_p = stats.mannwhitneyu(comp,app)\n",
    "\n",
    "pvals = [cnt_app_p,cnt_comp_p,comp_app_p]\n",
    "statistics = [statistic_cnt_app,statistic_cnt_comp,statistic_comp_app]\n",
    "# Run multiple comparison correction using Bonferoni correction\n",
    "behavior_multiple_ttests = multitest.multipletests(pvals,method = 'bonferroni')\n",
    "(significance,corr_pvalues,__,__) = behavior_multiple_ttests\n",
    "\n",
    "# save results\n",
    "import pickle\n",
    "with open(os.path.join(statspath,f'Figure{figure_key}_multiple_ttests.pickle'), 'wb') as handle:\n",
    "    pickle.dump(behavior_multiple_ttests, handle, protocol=pickle.HIGHEST_PROTOCOL)\n",
    "\n",
    "print(variable)\n",
    "print(', '.join(['Control vs Appetitive',str(corr_pvalues[0]),str(corr_pvalues[0]<0.05)]))\n",
    "print(', '.join(['Control vs Post_ejaculatory',str(corr_pvalues[1]),str(corr_pvalues[1]<0.05)]))\n",
    "print(', '.join(['Post_ejaculatory vs Appetitive',str(corr_pvalues[2]),str(corr_pvalues[2]<0.05)]))\n",
    "\n",
    "print('#####')\n",
    "\n",
    "for idx, group2 in enumerate(['Appetitive_hM3Dq','Post_ejaculatory_hM3Dq']):\n",
    "    # Determine the sample size for each group (often shown as \"n\" in non-parametric tests)\n",
    "    cnt = deltatestdf.loc[deltatestdf.Stim_Group == 'Post_ejaculatory_eYFP',variable].values\n",
    "    test = deltatestdf.loc[deltatestdf.Stim_Group == group2,variable].values\n",
    "    n_1 = len(cnt)\n",
    "    n_2 = len(test)\n",
    "\n",
    "    # Append the mannwhitneyu result to manuscript_statistic_file\n",
    "    mannwhitneyu_data = pd.DataFrame([{\n",
    "        'Figure': f'Figure{figure_key}',\n",
    "        'variable':variable,\n",
    "        'Type of Test': 'Mann-Whitney U rank test',\n",
    "        'Detail': f'Post_ejaculatory_eYFP vs {group2}',\n",
    "        'statistic description': f'MW(n={n_1}, {n_2})',  # Showing \"n\" for each group\n",
    "        'statistic': statistics[idx],\n",
    "        'p Value': corr_pvalues[idx]\n",
    "    }])\n",
    "\n",
    "    # Concatenate to the results DataFrame\n",
    "    manuscript_statistic_file = pd.concat([manuscript_statistic_file, mannwhitneyu_data], ignore_index=True)\n",
    "\n",
    "# Determine the sample size for each group (often shown as \"n\" in non-parametric tests)\n",
    "cnt = deltatestdf.loc[deltatestdf.Stim_Group == 'Appetitive_hM3Dq',variable].values\n",
    "test = deltatestdf.loc[deltatestdf.Stim_Group == 'Post_ejaculatory_hM3Dq',variable].values\n",
    "n_1 = len(cnt)\n",
    "n_2 = len(test)\n",
    "\n",
    "# Append the mannwhitneyu result to manuscript_statistic_file\n",
    "mannwhitneyu_data = pd.DataFrame([{\n",
    "    'Figure': f'Figure{figure_key}',\n",
    "    'variable':variable,\n",
    "    'Type of Test': 'Mann-Whitney U rank test',\n",
    "    'Detail': f'Appetitive_hM3Dq vs Post_ejaculatory_hM3Dq',\n",
    "    'statistic description': f'MW(n={n_1}, {n_2})',  # Showing \"n\" for each group\n",
    "    'statistic': statistics[idx],\n",
    "    'p Value': corr_pvalues[idx]\n",
    "}])\n",
    "\n",
    "# Concatenate to the results DataFrame\n",
    "manuscript_statistic_file = pd.concat([manuscript_statistic_file, mannwhitneyu_data], ignore_index=True)"
   ]
  },
  {
   "cell_type": "markdown",
   "metadata": {},
   "source": [
    "## Figure S10I"
   ]
  },
  {
   "cell_type": "code",
   "execution_count": 19,
   "metadata": {},
   "outputs": [
    {
     "name": "stderr",
     "output_type": "stream",
     "text": [
      "C:\\Users\\stuberadmin\\AppData\\Local\\Temp;\\ipykernel_28168\\2751461841.py:8: FutureWarning: Passing `palette` without assigning `hue` is deprecated.\n",
      "  sns.swarmplot(data = deltatestdf[deltatestdf.Conditioned],\n"
     ]
    },
    {
     "data": {
      "image/png": "[encoded data removed]",
      "text/plain": [
       "<Figure size 200x200 with 1 Axes>"
      ]
     },
     "metadata": {},
     "output_type": "display_data"
    }
   ],
   "source": [
    "variable = 'Zone_Frequency'\n",
    "figure_key = 'S10I'\n",
    "\n",
    "colors = ['blue','green','orange']\n",
    "\n",
    "v = np.round(deltatestdf[deltatestdf.Stim_Group == 'Post_ejaculatory_hM3Dq'][variable].std())*5\n",
    "fig,axs= plt.subplots(1,1,figsize= (2,2),sharex = True,sharey = True)\n",
    "sns.swarmplot(data = deltatestdf[deltatestdf.Conditioned],\n",
    "            x = 'Stim_Group',y = variable,order = ['Post_ejaculatory_eYFP','Appetitive_hM3Dq','Post_ejaculatory_hM3Dq'],ax = axs,\n",
    "            facecolors='none',palette = ['cyan','lime','orange'], marker=\"$\\circ$\", ec=\"face\",s = 8)\n",
    "sns.boxplot(data = deltatestdf[deltatestdf.Conditioned],\n",
    "            x = 'Stim_Group',y = variable,order = ['Post_ejaculatory_eYFP','Appetitive_hM3Dq','Post_ejaculatory_hM3Dq'],ax = axs,\n",
    "            palette = ['blue','green','orange'])\n",
    "axs.set_ylim(-v,v)\n",
    "axs.set_xlabel('')\n",
    "axs.set_ylabel('')\n",
    "axs.set_title(u'Δ Entry to CNO zone')\n",
    "axs.set_xticklabels(['Post-ejac. \\n eYFP','App. \\n hM3Dq','Post-ejac. \\n hM3Dq'],rotation = -45)\n",
    "sns.despine()\n",
    "fig.savefig(os.path.join(figurepath,f'Figure{figure_key}.png'),dpi = 216,bbox_inches ='tight')\n",
    "fig.savefig(os.path.join(figurepath,f'Figure{figure_key}.pdf'),bbox_inches ='tight')"
   ]
  },
  {
   "cell_type": "code",
   "execution_count": 20,
   "metadata": {},
   "outputs": [
    {
     "name": "stdout",
     "output_type": "stream",
     "text": [
      "Zone_Frequency\n",
      "Control vs Appetitive, 1.0, False\n",
      "Control vs Post_ejaculatory, 1.0, False\n",
      "Post_ejaculatory vs Appetitive, 0.6955710955710956, False\n",
      "#####\n"
     ]
    }
   ],
   "source": [
    "import scipy.stats as stats\n",
    "import statsmodels.stats.multitest as multitest\n",
    "\n",
    "cnt = deltatestdf.loc[(deltatestdf.Conditioned)&(deltatestdf.Stim_Group == 'Post_ejaculatory_eYFP'),variable].values\n",
    "app = deltatestdf.loc[(deltatestdf.Conditioned)&(deltatestdf.Stim_Group == 'Appetitive_hM3Dq'),variable].values\n",
    "comp = deltatestdf.loc[(deltatestdf.Conditioned)&(deltatestdf.Stim_Group == 'Post_ejaculatory_hM3Dq'),variable].values\n",
    "\n",
    "statistic_cnt_app,cnt_app_p = stats.mannwhitneyu(cnt,app)\n",
    "statistic_cnt_comp,cnt_comp_p = stats.mannwhitneyu(cnt,comp)\n",
    "statistic_comp_app,comp_app_p = stats.mannwhitneyu(comp,app)\n",
    "\n",
    "pvals = [cnt_app_p,cnt_comp_p,comp_app_p]\n",
    "statistics = [statistic_cnt_app,statistic_cnt_comp,statistic_comp_app]\n",
    "# Run multiple comparison correction using Bonferoni correction\n",
    "behavior_multiple_ttests = multitest.multipletests(pvals,method = 'bonferroni')\n",
    "(significance,corr_pvalues,__,__) = behavior_multiple_ttests\n",
    "\n",
    "# save results\n",
    "import pickle\n",
    "with open(os.path.join(statspath,f'Figure{figure_key}_multiple_ttests.pickle'), 'wb') as handle:\n",
    "    pickle.dump(behavior_multiple_ttests, handle, protocol=pickle.HIGHEST_PROTOCOL)\n",
    "\n",
    "print(variable)\n",
    "print(', '.join(['Control vs Appetitive',str(corr_pvalues[0]),str(corr_pvalues[0]<0.05)]))\n",
    "print(', '.join(['Control vs Post_ejaculatory',str(corr_pvalues[1]),str(corr_pvalues[1]<0.05)]))\n",
    "print(', '.join(['Post_ejaculatory vs Appetitive',str(corr_pvalues[2]),str(corr_pvalues[2]<0.05)]))\n",
    "\n",
    "print('#####')\n",
    "\n",
    "for idx, group2 in enumerate(['Appetitive_hM3Dq','Post_ejaculatory_hM3Dq']):\n",
    "    # Determine the sample size for each group (often shown as \"n\" in non-parametric tests)\n",
    "    cnt = deltatestdf.loc[deltatestdf.Stim_Group == 'Post_ejaculatory_eYFP',variable].values\n",
    "    test = deltatestdf.loc[deltatestdf.Stim_Group == group2,variable].values\n",
    "    n_1 = len(cnt)\n",
    "    n_2 = len(test)\n",
    "\n",
    "    # Append the mannwhitneyu result to manuscript_statistic_file\n",
    "    mannwhitneyu_data = pd.DataFrame([{\n",
    "        'Figure': f'Figure{figure_key}',\n",
    "        'variable':variable,\n",
    "        'Type of Test': 'Mann-Whitney U rank test',\n",
    "        'Detail': f'Post_ejaculatory_eYFP vs {group2}',\n",
    "        'statistic description': f'MW(n={n_1}, {n_2})',  # Showing \"n\" for each group\n",
    "        'statistic': statistics[idx],\n",
    "        'p Value': corr_pvalues[idx]\n",
    "    }])\n",
    "\n",
    "    # Concatenate to the results DataFrame\n",
    "    manuscript_statistic_file = pd.concat([manuscript_statistic_file, mannwhitneyu_data], ignore_index=True)\n",
    "\n",
    "# Determine the sample size for each group (often shown as \"n\" in non-parametric tests)\n",
    "cnt = deltatestdf.loc[deltatestdf.Stim_Group == 'Appetitive_hM3Dq',variable].values\n",
    "test = deltatestdf.loc[deltatestdf.Stim_Group == 'Post_ejaculatory_hM3Dq',variable].values\n",
    "n_1 = len(cnt)\n",
    "n_2 = len(test)\n",
    "\n",
    "# Append the mannwhitneyu result to manuscript_statistic_file\n",
    "mannwhitneyu_data = pd.DataFrame([{\n",
    "    'Figure': f'Figure{figure_key}',\n",
    "    'variable':variable,\n",
    "    'Type of Test': 'Mann-Whitney U rank test',\n",
    "    'Detail': f'Appetitive_hM3Dq vs Post_ejaculatory_hM3Dq',\n",
    "    'statistic description': f'MW(n={n_1}, {n_2})',  # Showing \"n\" for each group\n",
    "    'statistic': statistics[idx],\n",
    "    'p Value': corr_pvalues[idx]\n",
    "}])\n",
    "\n",
    "# Concatenate to the results DataFrame\n",
    "manuscript_statistic_file = pd.concat([manuscript_statistic_file, mannwhitneyu_data], ignore_index=True)"
   ]
  },
  {
   "cell_type": "markdown",
   "metadata": {},
   "source": [
    "## Figure S10J"
   ]
  },
  {
   "cell_type": "code",
   "execution_count": 21,
   "metadata": {},
   "outputs": [
    {
     "name": "stderr",
     "output_type": "stream",
     "text": [
      "C:\\Users\\stuberadmin\\AppData\\Local\\Temp;\\ipykernel_28168\\1039700536.py:8: FutureWarning: Passing `palette` without assigning `hue` is deprecated.\n",
      "  sns.swarmplot(data = deltatestdf[deltatestdf.Conditioned],\n"
     ]
    },
    {
     "data": {
      "image/png": "[encoded data removed]",
      "text/plain": [
       "<Figure size 200x200 with 1 Axes>"
      ]
     },
     "metadata": {},
     "output_type": "display_data"
    }
   ],
   "source": [
    "variable = 'Velocity'\n",
    "figure_key = 'S10J'\n",
    "\n",
    "colors = ['blue','green','orange']\n",
    "\n",
    "v = np.round(deltatestdf[deltatestdf.Stim_Group == 'Post_ejaculatory_hM3Dq'][variable].std())*5\n",
    "fig,axs= plt.subplots(1,1,figsize= (2,2),sharex = True,sharey = True)\n",
    "sns.swarmplot(data = deltatestdf[deltatestdf.Conditioned],\n",
    "            x = 'Stim_Group',y = variable,order = ['Post_ejaculatory_eYFP','Appetitive_hM3Dq','Post_ejaculatory_hM3Dq'],ax = axs,\n",
    "            facecolors='none',palette = ['cyan','lime','orange'], marker=\"$\\circ$\", ec=\"face\",s = 8)\n",
    "sns.boxplot(data = deltatestdf[deltatestdf.Conditioned],\n",
    "            x = 'Stim_Group',y = variable,order = ['Post_ejaculatory_eYFP','Appetitive_hM3Dq','Post_ejaculatory_hM3Dq'],ax = axs,\n",
    "            palette = ['blue','green','orange'])\n",
    "axs.set_ylim(-v,v)\n",
    "axs.set_xlabel('')\n",
    "axs.set_ylabel('')\n",
    "axs.set_title(u'Δ Velocity (cm/s)')\n",
    "axs.set_xticklabels(['Post-ejac. \\n eYFP','App. \\n hM3Dq','Post-ejac. \\n hM3Dq'],rotation = -45)\n",
    "sns.despine()\n",
    "fig.savefig(os.path.join(figurepath,f'Figure{figure_key}.png'),dpi = 216,bbox_inches ='tight')\n",
    "fig.savefig(os.path.join(figurepath,f'Figure{figure_key}.pdf'),bbox_inches ='tight')"
   ]
  },
  {
   "cell_type": "code",
   "execution_count": 22,
   "metadata": {},
   "outputs": [
    {
     "name": "stdout",
     "output_type": "stream",
     "text": [
      "Velocity\n",
      "Control vs Appetitive, 1.0, False\n",
      "Control vs Post_ejaculatory, 0.8471528471528473, False\n",
      "Post_ejaculatory vs Appetitive, 0.06153846153846154, False\n",
      "#####\n"
     ]
    }
   ],
   "source": [
    "import scipy.stats as stats\n",
    "import statsmodels.stats.multitest as multitest\n",
    "\n",
    "cnt = deltatestdf.loc[(deltatestdf.Conditioned)&(deltatestdf.Stim_Group == 'Post_ejaculatory_eYFP'),variable].values\n",
    "app = deltatestdf.loc[(deltatestdf.Conditioned)&(deltatestdf.Stim_Group == 'Appetitive_hM3Dq'),variable].values\n",
    "comp = deltatestdf.loc[(deltatestdf.Conditioned)&(deltatestdf.Stim_Group == 'Post_ejaculatory_hM3Dq'),variable].values\n",
    "\n",
    "statistic_cnt_app,cnt_app_p = stats.mannwhitneyu(cnt,app)\n",
    "statistic_cnt_comp,cnt_comp_p = stats.mannwhitneyu(cnt,comp)\n",
    "statistic_comp_app,comp_app_p = stats.mannwhitneyu(comp,app)\n",
    "\n",
    "pvals = [cnt_app_p,cnt_comp_p,comp_app_p]\n",
    "statistics = [statistic_cnt_app,statistic_cnt_comp,statistic_comp_app]\n",
    "# Run multiple comparison correction using Bonferoni correction\n",
    "behavior_multiple_ttests = multitest.multipletests(pvals,method = 'bonferroni')\n",
    "(significance,corr_pvalues,__,__) = behavior_multiple_ttests\n",
    "\n",
    "# save results\n",
    "import pickle\n",
    "with open(os.path.join(statspath,f'Figure{figure_key}_multiple_ttests.pickle'), 'wb') as handle:\n",
    "    pickle.dump(behavior_multiple_ttests, handle, protocol=pickle.HIGHEST_PROTOCOL)\n",
    "\n",
    "print(variable)\n",
    "print(', '.join(['Control vs Appetitive',str(corr_pvalues[0]),str(corr_pvalues[0]<0.05)]))\n",
    "print(', '.join(['Control vs Post_ejaculatory',str(corr_pvalues[1]),str(corr_pvalues[1]<0.05)]))\n",
    "print(', '.join(['Post_ejaculatory vs Appetitive',str(corr_pvalues[2]),str(corr_pvalues[2]<0.05)]))\n",
    "\n",
    "print('#####')\n",
    "\n",
    "for idx, group2 in enumerate(['Appetitive_hM3Dq','Post_ejaculatory_hM3Dq']):\n",
    "    # Determine the sample size for each group (often shown as \"n\" in non-parametric tests)\n",
    "    cnt = deltatestdf.loc[deltatestdf.Stim_Group == 'Post_ejaculatory_eYFP',variable].values\n",
    "    test = deltatestdf.loc[deltatestdf.Stim_Group == group2,variable].values\n",
    "    n_1 = len(cnt)\n",
    "    n_2 = len(test)\n",
    "\n",
    "    # Append the mannwhitneyu result to manuscript_statistic_file\n",
    "    mannwhitneyu_data = pd.DataFrame([{\n",
    "        'Figure': f'Figure{figure_key}',\n",
    "        'variable':variable,\n",
    "        'Type of Test': 'Mann-Whitney U rank test',\n",
    "        'Detail': f'Post_ejaculatory_eYFP vs {group2}',\n",
    "        'statistic description': f'MW(n={n_1}, {n_2})',  # Showing \"n\" for each group\n",
    "        'statistic': statistics[idx],\n",
    "        'p Value': corr_pvalues[idx]\n",
    "    }])\n",
    "\n",
    "    # Concatenate to the results DataFrame\n",
    "    manuscript_statistic_file = pd.concat([manuscript_statistic_file, mannwhitneyu_data], ignore_index=True)\n",
    "\n",
    "# Determine the sample size for each group (often shown as \"n\" in non-parametric tests)\n",
    "cnt = deltatestdf.loc[deltatestdf.Stim_Group == 'Appetitive_hM3Dq',variable].values\n",
    "test = deltatestdf.loc[deltatestdf.Stim_Group == 'Post_ejaculatory_hM3Dq',variable].values\n",
    "n_1 = len(cnt)\n",
    "n_2 = len(test)\n",
    "\n",
    "# Append the mannwhitneyu result to manuscript_statistic_file\n",
    "mannwhitneyu_data = pd.DataFrame([{\n",
    "    'Figure': f'Figure{figure_key}',\n",
    "    'variable':variable,\n",
    "    'Type of Test': 'Mann-Whitney U rank test',\n",
    "    'Detail': f'Appetitive_hM3Dq vs Post_ejaculatory_hM3Dq',\n",
    "    'statistic description': f'MW(n={n_1}, {n_2})',  # Showing \"n\" for each group\n",
    "    'statistic': statistics[idx],\n",
    "    'p Value': corr_pvalues[idx]\n",
    "}])\n",
    "\n",
    "# Concatenate to the results DataFrame\n",
    "manuscript_statistic_file = pd.concat([manuscript_statistic_file, mannwhitneyu_data], ignore_index=True)"
   ]
  },
  {
   "cell_type": "markdown",
   "metadata": {},
   "source": [
    "# Pup retrieval analysis"
   ]
  },
  {
   "cell_type": "code",
   "execution_count": 23,
   "metadata": {},
   "outputs": [],
   "source": [
    "# Read the meta data\n",
    "metadf = pd.read_csv(os.path.join(metapath,\"TRAP_DREADD_pup_meta.csv\"),index_col = False)"
   ]
  },
  {
   "cell_type": "code",
   "execution_count": 24,
   "metadata": {},
   "outputs": [],
   "source": [
    "# Read the result data exported from Ethovision\n",
    "behaviordf = pd.read_csv(os.path.join(datapath,\"Pup_summary_df.csv\"),index_col = False)"
   ]
  },
  {
   "cell_type": "markdown",
   "metadata": {},
   "source": [
    "## Figure S10L"
   ]
  },
  {
   "cell_type": "code",
   "execution_count": 25,
   "metadata": {},
   "outputs": [
    {
     "data": {
      "image/png": "[encoded data removed]",
      "text/plain": [
       "<Figure size 200x130 with 2 Axes>"
      ]
     },
     "metadata": {},
     "output_type": "display_data"
    }
   ],
   "source": [
    "variable = 'Number_of_Retrieval'\n",
    "figure_key = 'S10L'\n",
    "\n",
    "fig,axs = plt.subplots(1,2,figsize = (2.0,1.3),sharey = True)\n",
    "for idx,group in enumerate(['eYFP','hM3Dq']):\n",
    "    ax = axs[idx]\n",
    "    sns.lineplot(data = behaviordf[behaviordf.Group == group], x = 'State',y = variable,ax = ax,err_style = None,\\\n",
    "                    color = ['blue','orange'][idx],lw = 3)\n",
    "    sns.lineplot(data = behaviordf[behaviordf.Group == group], x = 'State',y = variable,ax = ax,err_style = None,\\\n",
    "                    color = ['blue','orange'][idx],estimator = None,units = 'ID',alpha = 0.6,lw = 1)      \n",
    "\n",
    "    #ax.set_ylim(0,)\n",
    "\n",
    "    ax.set_xlim(1.3,-0.3)\n",
    "    ax.set_title(group)\n",
    "    ax.set_xlabel('')\n",
    "sns.despine()\n",
    "axs[0].set_ylabel('# of pup retrieval')\n",
    "axs[0].set_ylim(0,2)\n",
    "fig.savefig(os.path.join(figurepath,f'Figure{figure_key}.png'),dpi = 216,bbox_inches ='tight')\n",
    "fig.savefig(os.path.join(figurepath,f'Figure{figure_key}.pdf'),bbox_inches ='tight')"
   ]
  },
  {
   "cell_type": "code",
   "execution_count": 26,
   "metadata": {},
   "outputs": [
    {
     "name": "stdout",
     "output_type": "stream",
     "text": [
      "eYFP:  WARNING, all values are zero\n",
      "hM3Dq:  WARNING, all values are zero\n",
      "eYFP 1.0\n",
      "hM3Dq 1.0\n"
     ]
    }
   ],
   "source": [
    "#perform two-way Wilcoxon\n",
    "from scipy.stats import wilcoxon\n",
    "\n",
    "x = behaviordf.loc[(behaviordf.Group == 'eYFP')&(behaviordf.State == 'Saline'),variable].values\n",
    "y = behaviordf.loc[(behaviordf.Group == 'eYFP')&(behaviordf.State == 'CNO'),variable].values\n",
    "if all(x == 0) & all(y == 0):\n",
    "    eYFP_pvalue = 1\n",
    "    eYFP_stats = 0\n",
    "    print('eYFP: ','WARNING, all values are zero')\n",
    "else:\n",
    "    eYFP_wilcoxon_stats = wilcoxon(\n",
    "        x = x,\n",
    "        y = y)\n",
    "    eYFP_stats,eYFP_pvalue = eYFP_wilcoxon_stats\n",
    "\n",
    "\n",
    "\n",
    "\n",
    "x = behaviordf.loc[(behaviordf.Group == 'hM3Dq')&(behaviordf.State == 'Saline'),variable].values\n",
    "y = behaviordf.loc[(behaviordf.Group == 'hM3Dq')&(behaviordf.State == 'CNO'),variable].values\n",
    "if all(x == 0) & all(y == 0):\n",
    "    hM3Dq_pvalue = 1\n",
    "    hM3Dq_stats = 0\n",
    "    print('hM3Dq: ','WARNING, all values are zero')\n",
    "else:\n",
    "    hM3Dq_wilcoxon_stats = wilcoxon(\n",
    "        x = x,\n",
    "        y = y)\n",
    "    hM3Dq_stats,hM3Dq_pvalue = hM3Dq_wilcoxon_stats\n",
    "\n",
    "pvals = [eYFP_pvalue,hM3Dq_pvalue]\n",
    "\n",
    "# Run multiple comparison correction using Bonferoni correction\n",
    "behavior_multiple_wilcoxontests = multitest.multipletests(pvals,method = 'bonferroni')\n",
    "(significance,corr_pvalues,__,__) = behavior_multiple_wilcoxontests\n",
    "\n",
    "\n",
    "print('eYFP',corr_pvalues[0])\n",
    "print('hM3Dq',corr_pvalues[1])\n",
    "\n",
    "# save results\n",
    "import pickle\n",
    "with open(os.path.join(statspath,f'Figure{figure_key}_multiple_ttests.pickle'), 'wb') as handle:\n",
    "    pickle.dump(behavior_multiple_wilcoxontests, handle, protocol=pickle.HIGHEST_PROTOCOL)\n",
    "\n",
    "# Append the wilcoxon result\n",
    "wilcoxon_stats = pd.DataFrame([{\n",
    "    'Figure': f'Figure{figure_key}',\n",
    "    'variable':variable,\n",
    "    'Type of Test': 'Two-way Wilcoxon signed-rank test',\n",
    "    'Detail': f'eYFP; Saline vs CNO',\n",
    "    'statistic description': f'W(n={len(x)})',  # Showing \"n\" for each group\n",
    "    'statistic': eYFP_stats,\n",
    "    'p Value': corr_pvalues[0]\n",
    "}])\n",
    "\n",
    "# Concatenate to the results DataFrame\n",
    "manuscript_statistic_file = pd.concat([manuscript_statistic_file, wilcoxon_stats], ignore_index=True)\n",
    "\n",
    "# Append the wilcoxon result\n",
    "wilcoxon_stats = pd.DataFrame([{\n",
    "    'Figure': f'Figure{figure_key}',\n",
    "    'variable':variable,\n",
    "    'Type of Test': 'Two-way Wilcoxon signed-rank test',\n",
    "    'Detail': f'hM3Dq; Saline vs CNO',\n",
    "    'statistic description': f'W(n={len(x)})',  # Showing \"n\" for each group\n",
    "    'statistic': hM3Dq_stats,\n",
    "    'p Value': corr_pvalues[1]\n",
    "}])\n",
    "\n",
    "# Concatenate to the results DataFrame\n",
    "manuscript_statistic_file = pd.concat([manuscript_statistic_file, wilcoxon_stats], ignore_index=True)\n"
   ]
  },
  {
   "cell_type": "markdown",
   "metadata": {},
   "source": [
    "## Figure S10M"
   ]
  },
  {
   "cell_type": "code",
   "execution_count": 27,
   "metadata": {},
   "outputs": [
    {
     "data": {
      "image/png": "[encoded data removed]",
      "text/plain": [
       "<Figure size 200x130 with 2 Axes>"
      ]
     },
     "metadata": {},
     "output_type": "display_data"
    }
   ],
   "source": [
    "variable = 'Number_of_Nest'\n",
    "figure_key = 'S10M'\n",
    "\n",
    "fig,axs = plt.subplots(1,2,figsize = (2.0,1.3),sharey = True)\n",
    "for idx,group in enumerate(['eYFP','hM3Dq']):\n",
    "    ax = axs[idx]\n",
    "    sns.lineplot(data = behaviordf[behaviordf.Group == group], x = 'State',y = variable,ax = ax,err_style = None,\\\n",
    "                    color = ['blue','orange'][idx],lw = 3)\n",
    "    sns.lineplot(data = behaviordf[behaviordf.Group == group], x = 'State',y = variable,ax = ax,err_style = None,\\\n",
    "                    color = ['blue','orange'][idx],estimator = None,units = 'ID',alpha = 0.6,lw = 1)      \n",
    "\n",
    "    #ax.set_ylim(0,)\n",
    "    ax.set_xlim(1.3,-0.3)\n",
    "    ax.set_title(group)\n",
    "    ax.set_xlabel('')\n",
    "sns.despine()\n",
    "axs[0].set_ylabel('# of nest building')\n",
    "axs[0].set_ylim(0,)\n",
    "fig.savefig(os.path.join(figurepath,f'Figure{figure_key}.png'),dpi = 216,bbox_inches ='tight')\n",
    "fig.savefig(os.path.join(figurepath,f'Figure{figure_key}.pdf'),bbox_inches ='tight')"
   ]
  },
  {
   "cell_type": "code",
   "execution_count": 28,
   "metadata": {},
   "outputs": [
    {
     "name": "stdout",
     "output_type": "stream",
     "text": [
      "eYFP:  WARNING, all values are zero\n",
      "eYFP 1.0\n",
      "hM3Dq 0.6346210157258283\n"
     ]
    },
    {
     "name": "stderr",
     "output_type": "stream",
     "text": [
      "c:\\Users\\stuberadmin\\anaconda3\\envs\\cellpose\\lib\\site-packages\\scipy\\stats\\_morestats.py:3414: UserWarning: Exact p-value calculation does not work if there are zeros. Switching to normal approximation.\n",
      "  warnings.warn(\"Exact p-value calculation does not work if there are \"\n",
      "c:\\Users\\stuberadmin\\anaconda3\\envs\\cellpose\\lib\\site-packages\\scipy\\stats\\_morestats.py:3428: UserWarning: Sample size too small for normal approximation.\n",
      "  warnings.warn(\"Sample size too small for normal approximation.\")\n"
     ]
    }
   ],
   "source": [
    "#perform two-way Wilcoxon\n",
    "from scipy.stats import wilcoxon\n",
    "\n",
    "x = behaviordf.loc[(behaviordf.Group == 'eYFP')&(behaviordf.State == 'Saline'),variable].values\n",
    "y = behaviordf.loc[(behaviordf.Group == 'eYFP')&(behaviordf.State == 'CNO'),variable].values\n",
    "if all(x == 0) & all(y == 0):\n",
    "    eYFP_pvalue = 1\n",
    "    eYFP_stats = 0\n",
    "    print('eYFP: ','WARNING, all values are zero')\n",
    "else:\n",
    "    eYFP_wilcoxon_stats = wilcoxon(\n",
    "        x = x,\n",
    "        y = y)\n",
    "    eYFP_stats,eYFP_pvalue = eYFP_wilcoxon_stats\n",
    "\n",
    "\n",
    "\n",
    "\n",
    "x = behaviordf.loc[(behaviordf.Group == 'hM3Dq')&(behaviordf.State == 'Saline'),variable].values\n",
    "y = behaviordf.loc[(behaviordf.Group == 'hM3Dq')&(behaviordf.State == 'CNO'),variable].values\n",
    "if all(x == 0) & all(y == 0):\n",
    "    hM3Dq_pvalue = 1\n",
    "    hM3Dq_stats = 0\n",
    "    print('hM3Dq: ','WARNING, all values are zero')\n",
    "else:\n",
    "    hM3Dq_wilcoxon_stats = wilcoxon(\n",
    "        x = x,\n",
    "        y = y)\n",
    "    hM3Dq_stats,hM3Dq_pvalue = hM3Dq_wilcoxon_stats\n",
    "\n",
    "pvals = [eYFP_pvalue,hM3Dq_pvalue]\n",
    "\n",
    "# Run multiple comparison correction using Bonferoni correction\n",
    "behavior_multiple_wilcoxontests = multitest.multipletests(pvals,method = 'bonferroni')\n",
    "(significance,corr_pvalues,__,__) = behavior_multiple_wilcoxontests\n",
    "\n",
    "\n",
    "print('eYFP',corr_pvalues[0])\n",
    "print('hM3Dq',corr_pvalues[1])\n",
    "\n",
    "# save results\n",
    "import pickle\n",
    "with open(os.path.join(statspath,f'Figure{figure_key}_multiple_ttests.pickle'), 'wb') as handle:\n",
    "    pickle.dump(behavior_multiple_wilcoxontests, handle, protocol=pickle.HIGHEST_PROTOCOL)\n",
    "\n",
    "# Append the wilcoxon result\n",
    "wilcoxon_stats = pd.DataFrame([{\n",
    "    'Figure': f'Figure{figure_key}',\n",
    "    'variable':variable,\n",
    "    'Type of Test': 'Two-way Wilcoxon signed-rank test',\n",
    "    'Detail': f'eYFP; Saline vs CNO',\n",
    "    'statistic description': f'W(n={len(x)})',  # Showing \"n\" for each group\n",
    "    'statistic': eYFP_stats,\n",
    "    'p Value': corr_pvalues[0]\n",
    "}])\n",
    "\n",
    "# Concatenate to the results DataFrame\n",
    "manuscript_statistic_file = pd.concat([manuscript_statistic_file, wilcoxon_stats], ignore_index=True)\n",
    "\n",
    "# Append the wilcoxon result\n",
    "wilcoxon_stats = pd.DataFrame([{\n",
    "    'Figure': f'Figure{figure_key}',\n",
    "    'variable':variable,\n",
    "    'Type of Test': 'Two-way Wilcoxon signed-rank test',\n",
    "    'Detail': f'hM3Dq; Saline vs CNO',\n",
    "    'statistic description': f'W(n={len(x)})',  # Showing \"n\" for each group\n",
    "    'statistic': hM3Dq_stats,\n",
    "    'p Value': corr_pvalues[1]\n",
    "}])\n",
    "\n",
    "# Concatenate to the results DataFrame\n",
    "manuscript_statistic_file = pd.concat([manuscript_statistic_file, wilcoxon_stats], ignore_index=True)\n"
   ]
  },
  {
   "cell_type": "markdown",
   "metadata": {},
   "source": [
    "## Figure S10N"
   ]
  },
  {
   "cell_type": "code",
   "execution_count": 29,
   "metadata": {},
   "outputs": [
    {
     "data": {
      "image/png": "[encoded data removed]",
      "text/plain": [
       "<Figure size 200x130 with 2 Axes>"
      ]
     },
     "metadata": {},
     "output_type": "display_data"
    }
   ],
   "source": [
    "variable = 'Number_of_Grooming'\n",
    "figure_key = 'S10N'\n",
    "\n",
    "fig,axs = plt.subplots(1,2,figsize = (2.0,1.3),sharey = True)\n",
    "for idx,group in enumerate(['eYFP','hM3Dq']):\n",
    "    ax = axs[idx]\n",
    "    sns.lineplot(data = behaviordf[behaviordf.Group == group], x = 'State',y = variable,ax = ax,err_style = None,\\\n",
    "                    color = ['blue','orange'][idx],lw = 3)\n",
    "    sns.lineplot(data = behaviordf[behaviordf.Group == group], x = 'State',y = variable,ax = ax,err_style = None,\\\n",
    "                    color = ['blue','orange'][idx],estimator = None,units = 'ID',alpha = 0.6,lw = 1)      \n",
    "\n",
    "    #ax.set_ylim(0,)\n",
    "    ax.set_xlim(1.3,-0.3)\n",
    "    ax.set_title(group)\n",
    "    ax.set_xlabel('')\n",
    "sns.despine()\n",
    "axs[0].set_ylabel('# of pup grooming')\n",
    "axs[0].set_ylim(0,)\n",
    "fig.savefig(os.path.join(figurepath,f'Figure{figure_key}.png'),dpi = 216,bbox_inches ='tight')\n",
    "fig.savefig(os.path.join(figurepath,f'Figure{figure_key}.pdf'),bbox_inches ='tight')"
   ]
  },
  {
   "cell_type": "code",
   "execution_count": 30,
   "metadata": {},
   "outputs": [
    {
     "name": "stdout",
     "output_type": "stream",
     "text": [
      "eYFP 1.0\n",
      "hM3Dq 1.0\n"
     ]
    },
    {
     "name": "stderr",
     "output_type": "stream",
     "text": [
      "c:\\Users\\stuberadmin\\anaconda3\\envs\\cellpose\\lib\\site-packages\\scipy\\stats\\_morestats.py:3414: UserWarning: Exact p-value calculation does not work if there are zeros. Switching to normal approximation.\n",
      "  warnings.warn(\"Exact p-value calculation does not work if there are \"\n",
      "c:\\Users\\stuberadmin\\anaconda3\\envs\\cellpose\\lib\\site-packages\\scipy\\stats\\_morestats.py:3428: UserWarning: Sample size too small for normal approximation.\n",
      "  warnings.warn(\"Sample size too small for normal approximation.\")\n"
     ]
    }
   ],
   "source": [
    "#perform two-way Wilcoxon\n",
    "from scipy.stats import wilcoxon\n",
    "\n",
    "x = behaviordf.loc[(behaviordf.Group == 'eYFP')&(behaviordf.State == 'Saline'),variable].values\n",
    "y = behaviordf.loc[(behaviordf.Group == 'eYFP')&(behaviordf.State == 'CNO'),variable].values\n",
    "if all(x == 0) & all(y == 0):\n",
    "    eYFP_pvalue = 1\n",
    "    eYFP_stats = 0\n",
    "    print('eYFP: ','WARNING, all values are zero')\n",
    "else:\n",
    "    eYFP_wilcoxon_stats = wilcoxon(\n",
    "        x = x,\n",
    "        y = y)\n",
    "    eYFP_stats,eYFP_pvalue = eYFP_wilcoxon_stats\n",
    "\n",
    "\n",
    "\n",
    "\n",
    "x = behaviordf.loc[(behaviordf.Group == 'hM3Dq')&(behaviordf.State == 'Saline'),variable].values\n",
    "y = behaviordf.loc[(behaviordf.Group == 'hM3Dq')&(behaviordf.State == 'CNO'),variable].values\n",
    "if all(x == 0) & all(y == 0):\n",
    "    hM3Dq_pvalue = 1\n",
    "    hM3Dq_stats = 0\n",
    "    print('hM3Dq: ','WARNING, all values are zero')\n",
    "else:\n",
    "    hM3Dq_wilcoxon_stats = wilcoxon(\n",
    "        x = x,\n",
    "        y = y)\n",
    "    hM3Dq_stats,hM3Dq_pvalue = hM3Dq_wilcoxon_stats\n",
    "\n",
    "pvals = [eYFP_pvalue,hM3Dq_pvalue]\n",
    "\n",
    "# Run multiple comparison correction using Bonferoni correction\n",
    "behavior_multiple_wilcoxontests = multitest.multipletests(pvals,method = 'bonferroni')\n",
    "(significance,corr_pvalues,__,__) = behavior_multiple_wilcoxontests\n",
    "\n",
    "\n",
    "print('eYFP',corr_pvalues[0])\n",
    "print('hM3Dq',corr_pvalues[1])\n",
    "\n",
    "# save results\n",
    "import pickle\n",
    "with open(os.path.join(statspath,f'Figure{figure_key}_multiple_ttests.pickle'), 'wb') as handle:\n",
    "    pickle.dump(behavior_multiple_wilcoxontests, handle, protocol=pickle.HIGHEST_PROTOCOL)\n",
    "\n",
    "# Append the wilcoxon result\n",
    "wilcoxon_stats = pd.DataFrame([{\n",
    "    'Figure': f'Figure{figure_key}',\n",
    "    'variable':variable,\n",
    "    'Type of Test': 'Two-way Wilcoxon signed-rank test',\n",
    "    'Detail': f'eYFP; Saline vs CNO',\n",
    "    'statistic description': f'W(n={len(x)})',  # Showing \"n\" for each group\n",
    "    'statistic': eYFP_stats,\n",
    "    'p Value': corr_pvalues[0]\n",
    "}])\n",
    "\n",
    "# Concatenate to the results DataFrame\n",
    "manuscript_statistic_file = pd.concat([manuscript_statistic_file, wilcoxon_stats], ignore_index=True)\n",
    "\n",
    "# Append the wilcoxon result\n",
    "wilcoxon_stats = pd.DataFrame([{\n",
    "    'Figure': f'Figure{figure_key}',\n",
    "    'variable':variable,\n",
    "    'Type of Test': 'Two-way Wilcoxon signed-rank test',\n",
    "    'Detail': f'hM3Dq; Saline vs CNO',\n",
    "    'statistic description': f'W(n={len(x)})',  # Showing \"n\" for each group\n",
    "    'statistic': hM3Dq_stats,\n",
    "    'p Value': corr_pvalues[1]\n",
    "}])\n",
    "\n",
    "# Concatenate to the results DataFrame\n",
    "manuscript_statistic_file = pd.concat([manuscript_statistic_file, wilcoxon_stats], ignore_index=True)\n"
   ]
  },
  {
   "cell_type": "markdown",
   "metadata": {},
   "source": [
    "## Figure S10O"
   ]
  },
  {
   "cell_type": "code",
   "execution_count": 31,
   "metadata": {},
   "outputs": [
    {
     "data": {
      "image/png": "[encoded data removed]",
      "text/plain": [
       "<Figure size 200x130 with 2 Axes>"
      ]
     },
     "metadata": {},
     "output_type": "display_data"
    }
   ],
   "source": [
    "variable = 'Number_of_Sniff'\n",
    "figure_key = 'S10O'\n",
    "\n",
    "fig,axs = plt.subplots(1,2,figsize = (2.0,1.3),sharey = True)\n",
    "for idx,group in enumerate(['eYFP','hM3Dq']):\n",
    "    ax = axs[idx]\n",
    "    sns.lineplot(data = behaviordf[behaviordf.Group == group], x = 'State',y = variable,ax = ax,err_style = None,\\\n",
    "                    color = ['blue','orange'][idx],lw = 3)\n",
    "    sns.lineplot(data = behaviordf[behaviordf.Group == group], x = 'State',y = variable,ax = ax,err_style = None,\\\n",
    "                    color = ['blue','orange'][idx],estimator = None,units = 'ID',alpha = 0.6,lw = 1)      \n",
    "\n",
    "    #ax.set_ylim(0,)\n",
    "    ax.set_xlim(1.3,-0.3)\n",
    "    ax.set_title(group)\n",
    "    ax.set_xlabel('')\n",
    "sns.despine()\n",
    "axs[0].set_ylabel('# of pup grooming')\n",
    "axs[0].set_ylim(0,)\n",
    "fig.savefig(os.path.join(figurepath,f'Figure{figure_key}.png'),dpi = 216,bbox_inches ='tight')\n",
    "fig.savefig(os.path.join(figurepath,f'Figure{figure_key}.pdf'),bbox_inches ='tight')"
   ]
  },
  {
   "cell_type": "code",
   "execution_count": 32,
   "metadata": {},
   "outputs": [
    {
     "name": "stdout",
     "output_type": "stream",
     "text": [
      "eYFP 1.0\n",
      "hM3Dq 0.390625\n"
     ]
    }
   ],
   "source": [
    "#perform two-way Wilcoxon\n",
    "from scipy.stats import wilcoxon\n",
    "\n",
    "x = behaviordf.loc[(behaviordf.Group == 'eYFP')&(behaviordf.State == 'Saline'),variable].values\n",
    "y = behaviordf.loc[(behaviordf.Group == 'eYFP')&(behaviordf.State == 'CNO'),variable].values\n",
    "if all(x == 0) & all(y == 0):\n",
    "    eYFP_pvalue = 1\n",
    "    eYFP_stats = 0\n",
    "    print('eYFP: ','WARNING, all values are zero')\n",
    "else:\n",
    "    eYFP_wilcoxon_stats = wilcoxon(\n",
    "        x = x,\n",
    "        y = y)\n",
    "    eYFP_stats,eYFP_pvalue = eYFP_wilcoxon_stats\n",
    "\n",
    "\n",
    "\n",
    "\n",
    "x = behaviordf.loc[(behaviordf.Group == 'hM3Dq')&(behaviordf.State == 'Saline'),variable].values\n",
    "y = behaviordf.loc[(behaviordf.Group == 'hM3Dq')&(behaviordf.State == 'CNO'),variable].values\n",
    "if all(x == 0) & all(y == 0):\n",
    "    hM3Dq_pvalue = 1\n",
    "    hM3Dq_stats = 0\n",
    "    print('hM3Dq: ','WARNING, all values are zero')\n",
    "else:\n",
    "    hM3Dq_wilcoxon_stats = wilcoxon(\n",
    "        x = x,\n",
    "        y = y)\n",
    "    hM3Dq_stats,hM3Dq_pvalue = hM3Dq_wilcoxon_stats\n",
    "\n",
    "pvals = [eYFP_pvalue,hM3Dq_pvalue]\n",
    "\n",
    "# Run multiple comparison correction using Bonferoni correction\n",
    "behavior_multiple_wilcoxontests = multitest.multipletests(pvals,method = 'bonferroni')\n",
    "(significance,corr_pvalues,__,__) = behavior_multiple_wilcoxontests\n",
    "\n",
    "\n",
    "print('eYFP',corr_pvalues[0])\n",
    "print('hM3Dq',corr_pvalues[1])\n",
    "\n",
    "# save results\n",
    "import pickle\n",
    "with open(os.path.join(statspath,f'Figure{figure_key}_multiple_ttests.pickle'), 'wb') as handle:\n",
    "    pickle.dump(behavior_multiple_wilcoxontests, handle, protocol=pickle.HIGHEST_PROTOCOL)\n",
    "\n",
    "# Append the wilcoxon result\n",
    "wilcoxon_stats = pd.DataFrame([{\n",
    "    'Figure': f'Figure{figure_key}',\n",
    "    'variable':variable,\n",
    "    'Type of Test': 'Two-way Wilcoxon signed-rank test',\n",
    "    'Detail': f'eYFP; Saline vs CNO',\n",
    "    'statistic description': f'W(n={len(x)})',  # Showing \"n\" for each group\n",
    "    'statistic': eYFP_stats,\n",
    "    'p Value': corr_pvalues[0]\n",
    "}])\n",
    "\n",
    "# Concatenate to the results DataFrame\n",
    "manuscript_statistic_file = pd.concat([manuscript_statistic_file, wilcoxon_stats], ignore_index=True)\n",
    "\n",
    "# Append the wilcoxon result\n",
    "wilcoxon_stats = pd.DataFrame([{\n",
    "    'Figure': f'Figure{figure_key}',\n",
    "    'variable':variable,\n",
    "    'Type of Test': 'Two-way Wilcoxon signed-rank test',\n",
    "    'Detail': f'hM3Dq; Saline vs CNO',\n",
    "    'statistic description': f'W(n={len(x)})',  # Showing \"n\" for each group\n",
    "    'statistic': hM3Dq_stats,\n",
    "    'p Value': corr_pvalues[1]\n",
    "}])\n",
    "\n",
    "# Concatenate to the results DataFrame\n",
    "manuscript_statistic_file = pd.concat([manuscript_statistic_file, wilcoxon_stats], ignore_index=True)\n"
   ]
  },
  {
   "cell_type": "code",
   "execution_count": 33,
   "metadata": {},
   "outputs": [],
   "source": [
    "# Write the stats\n",
    "manuscript_statistic_file.to_csv(manuscript_statistic_filepath,index = False)"
   ]
  }
 ],
 "metadata": {
  "kernelspec": {
   "display_name": "cellpose",
   "language": "python",
   "name": "python3"
  },
  "language_info": {
   "codemirror_mode": {
    "name": "ipython",
    "version": 3
   },
   "file_extension": ".py",
   "mimetype": "text/x-python",
   "name": "python",
   "nbconvert_exporter": "python",
   "pygments_lexer": "ipython3",
   "version": "3.8.17"
  },
  "orig_nbformat": 4
 },
 "nbformat": 4,
 "nbformat_minor": 2
}
