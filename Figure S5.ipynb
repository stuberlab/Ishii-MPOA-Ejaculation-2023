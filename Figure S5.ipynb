{
 "cells": [
  {
   "cell_type": "code",
   "execution_count": 1,
   "metadata": {},
   "outputs": [],
   "source": [
    "import os\n",
    "import time\n",
    "import pandas as pd\n",
    "import numpy as np\n",
    "import seaborn as sns\n",
    "import tifffile as tiff\n",
    "import matplotlib.pyplot as plt\n",
    "import cv2\n",
    "import matplotlib\n",
    "\n",
    "from matplotlib_venn import venn2, venn2_circles, venn2_unweighted\n",
    "from matplotlib_venn import venn3, venn3_circles\n",
    "from matplotlib import pyplot as plt\n",
    "import pickle\n",
    "from matplotlib.patches import Polygon\n",
    "import datetime\n",
    "import statsmodels.stats.multitest as mlt\n",
    "#important for text to be detected when importing saved figures into illustrator\n",
    "matplotlib.rcParams['pdf.fonttype']=42\n",
    "matplotlib.rcParams['ps.fonttype']=42"
   ]
  },
  {
   "cell_type": "code",
   "execution_count": null,
   "metadata": {},
   "outputs": [],
   "source": [
    "# set paths to results\n",
    "rootpath = r\"...\\Data\\Figure S5\"\n",
    "threshold_path = os.path.join(rootpath,\"thresholds\")\n",
    "meta_path = os.path.join(rootpath,\"meta\")\n",
    "figurepath = os.path.join(rootpath,\"figures\")\n",
    "summary_path = os.path.join(rootpath,\"rawdata\")\n",
    "statspath = os.path.join(rootpath,\"stats\")\n",
    "\n",
    "\n",
    "for x in [threshold_path,summary_path,figurepath,statspath]:\n",
    "    if not os.path.exists(x):\n",
    "        os.mkdir(x)"
   ]
  },
  {
   "cell_type": "code",
   "execution_count": null,
   "metadata": {},
   "outputs": [],
   "source": [
    "# Excel file to store statistical values for manuscript\n",
    "manuscript_statistic_filepath = os.path.join(r\"...\\meta\",\"manuscript_statistic.csv\")\n",
    "manuscript_statistic_file = pd.read_csv(manuscript_statistic_filepath,index_col = False)"
   ]
  },
  {
   "cell_type": "code",
   "execution_count": 4,
   "metadata": {},
   "outputs": [],
   "source": [
    "# Load the meta data\n",
    "Fos_mapping_meta = pd.read_csv(os.path.join(meta_path,\"metainfo.csv\"),index_col = False)"
   ]
  },
  {
   "cell_type": "code",
   "execution_count": 5,
   "metadata": {},
   "outputs": [],
   "source": [
    "# Load the preprocessed data\n",
    "# The preprocessed data contains all the cells from all the subjects.\n",
    "# Individual datas can be discriminated using the ID column.\n",
    "# The other columns, 'GENE Area (µm²)', 'GENE Avg Intensity', 'GENE Cell Intensity',\n",
    "# 'GENE Classification', 'GENE Copies', 'GENE regressed_copies', are gene specific datasets.\n",
    "# 'GENE positive_cells' was determined by a pre-determined threshold for regressed_copies.\n",
    "\n",
    "# GENE regresed copies is the number of Copies regressed based on the intensity value and Copies data from the same section.\n",
    "# This is assuimng that the intensity for one copy is the consistent in HCR.\n",
    "\n",
    "# Data from 5 brain regions, BST (BNST), MPN (MPN), MPA, LPO and VLPO, from each hemisphere is analysed.\n",
    "# 3 sections, s1 anterior, s2 medial, s3 posterior, are used.\n",
    "\n",
    "# The most raw data set\n",
    "merge_df = pd.read_csv(os.path.join(summary_path,'MPOA_female_summary_result.csv'),index_col = False)\n"
   ]
  },
  {
   "cell_type": "code",
   "execution_count": 6,
   "metadata": {},
   "outputs": [],
   "source": [
    "# read the mean and count dataframe\n",
    "meandf = pd.read_csv(os.path.join(summary_path,'MPOA_female_summary_result_mean.csv'),index_col = False)\n",
    "countdf = pd.read_csv(os.path.join(summary_path,'MPOA_female_summary_result_count.csv'),index_col = False)\n"
   ]
  },
  {
   "cell_type": "code",
   "execution_count": 7,
   "metadata": {},
   "outputs": [],
   "source": [
    "# The merge_df dataframe is processed to calculate the average number of cells that are positive\n",
    "\n",
    "group_columns = ['section','ID','Analysis major region','Sex','Stim','Sex_Stim']\n",
    "#meandf = merge_df.groupby(group_columns).mean().reset_index() # calculate the number of cells \n",
    "#countdf = merge_df.groupby(group_columns).count().reset_index()\n"
   ]
  },
  {
   "cell_type": "code",
   "execution_count": 8,
   "metadata": {},
   "outputs": [],
   "source": [
    "new_IDs = [Fos_mapping_meta.loc[Fos_mapping_meta.Original_ID == f,'ID'].values[0] for f in merge_df.ID]"
   ]
  },
  {
   "cell_type": "markdown",
   "metadata": {},
   "source": [
    "# Figure S3D"
   ]
  },
  {
   "cell_type": "code",
   "execution_count": 9,
   "metadata": {},
   "outputs": [
    {
     "name": "stderr",
     "output_type": "stream",
     "text": [
      "c:\\Users\\stuberadmin\\anaconda3\\envs\\cellpose\\lib\\site-packages\\seaborn\\categorical.py:3544: UserWarning: 20.0% of the points cannot be placed; you may want to decrease the size of the markers or use stripplot.\n",
      "  warnings.warn(msg, UserWarning)\n"
     ]
    },
    {
     "data": {
      "image/png": "[encoded data removed]",
      "text/plain": [
       "<Figure size 300x180 with 1 Axes>"
      ]
     },
     "metadata": {},
     "output_type": "display_data"
    }
   ],
   "source": [
    "fig ,axs = plt.subplots(1,1,figsize = (3,1.8),sharex = False,sharey = False)\n",
    "sns.barplot(data = meandf.groupby(['ID','Analysis major region','Stim',]).mean().reset_index(),\\\n",
    "            x = 'Analysis major region', y = 'Fos positive_cells', hue = 'Stim',\n",
    "order = ['MPN','MPA','BST','LPO','VLPO'],dodge = True,ax = axs,errwidth = 1)\n",
    "sns.swarmplot(data = meandf.groupby(['ID','Analysis major region','Stim']).mean().reset_index(),\\\n",
    "              x = 'Analysis major region', y = 'Fos positive_cells', hue = 'Stim',\n",
    "order = ['MPN','MPA','BST','LPO','VLPO'],dodge = True,ax = axs,\\\n",
    "    palette = ['cyan','orange'], marker=\"$\\circ$\", ec=\"face\",s = 8)\n",
    "axs.set_ylabel('Prportion of $\\it{Fos}$+ cells')\n",
    "axs.set_xticklabels(['MPN','MPA','BNST','LPO','vLPO'])\n",
    "sns.despine()\n",
    "axs.get_legend().remove()\n",
    "fig.savefig(os.path.join(figurepath,'FigureS5D.png'),bbox_inches='tight',dpi = 216)\n",
    "fig.savefig(os.path.join(figurepath,'FigureS5D.pdf'),bbox_inches='tight')    \n"
   ]
  },
  {
   "cell_type": "code",
   "execution_count": null,
   "metadata": {},
   "outputs": [],
   "source": []
  },
  {
   "cell_type": "code",
   "execution_count": 10,
   "metadata": {},
   "outputs": [
    {
     "name": "stdout",
     "output_type": "stream",
     "text": [
      "BST 1.0\n",
      "LPO 1.0\n",
      "MPA 0.5142071818743981\n",
      "MPN 0.013604679562290592\n",
      "VLPO 1.0\n"
     ]
    }
   ],
   "source": [
    "#perform two-way Students t-test, then correct with Bonferroni correction\n",
    "from scipy import stats\n",
    "group1 = 'Appetitive'\n",
    "group2 = 'Post_ejaculatory'\n",
    "\n",
    "pvalues = []\n",
    "statistics = []\n",
    "tempdf = meandf.groupby(['ID','Analysis major region','Stim',]).mean().reset_index()\n",
    "for region in meandf['Analysis major region'].unique():\n",
    "#for region in ['MPN','MPA','BST']:\n",
    "    statistic,pvalue = stats.ttest_ind(tempdf[(tempdf.Stim == group1)&(tempdf['Analysis major region'] == region)]['Fos positive_cells'],\\\n",
    "                    tempdf[(tempdf.Stim == group2)&(tempdf['Analysis major region'] == region)]['Fos positive_cells'])\n",
    "    #print(region,pvalue)\n",
    "    pvalues.append(pvalue)\n",
    "    statistics.append(statistic)\n",
    "\n",
    "\n",
    "multiple_ttests_S3D = mlt.multipletests(pvalues,method = 'bonferroni')\n",
    "(significance,corr_pvals, __ , __ ) = multiple_ttests_S3D\n",
    "n1 = tempdf[(tempdf.Stim == group1)&(tempdf['Analysis major region'] == region)].shape[0]\n",
    "n2 = tempdf[(tempdf.Stim == group2)&(tempdf['Analysis major region'] == region)].shape[0]\n",
    "# print the results\n",
    "for ridx,region in enumerate(meandf['Analysis major region'].unique()):\n",
    "    print(region,corr_pvals[ridx])\n",
    "\n",
    "    # Append the ttest result to manuscript_statistic_file\n",
    "    ttest_bonferroni_correction = pd.DataFrame([{\n",
    "        'Figure': 'FigureS5D',\n",
    "        'variable':f'Proportion of Fos positive_cells',\n",
    "        'Type of Test': 't-test with BH correction',\n",
    "        'Detail': f'{region}; {group1} vs {group2}',\n",
    "        'statistic description': f't({n1 + n2 -2})',  # Showing \"n\" for each group\n",
    "        'statistic': statistics[ridx],\n",
    "        'p Value': corr_pvals[ridx]\n",
    "    }])\n",
    "    \n",
    "    # Concatenate to the results DataFrame\n",
    "    manuscript_statistic_file = pd.concat([manuscript_statistic_file, ttest_bonferroni_correction], ignore_index=True)\n",
    "\n",
    "# save results\n",
    "import pickle\n",
    "with open(os.path.join(statspath,'FigureS5D_studentsttest_multitest.pickle'), 'wb') as handle:\n",
    "    pickle.dump(multiple_ttests_S3D, handle, protocol=pickle.HIGHEST_PROTOCOL)\n"
   ]
  },
  {
   "cell_type": "markdown",
   "metadata": {},
   "source": [
    "# Figure S3I"
   ]
  },
  {
   "cell_type": "code",
   "execution_count": 11,
   "metadata": {},
   "outputs": [],
   "source": [
    "# The raw dataframe \"MPOA_female_summary_result.csv\" was processed to subset the cells into Vgat+ or Vglut2+ cells\n",
    "# Then calculate the proportion of other gene+ cells and the average number of copies per each gene.\n",
    "\n",
    "result_group_merge_df = pd.read_csv(os.path.join(summary_path,'MPOA_female_Vgat_Vglut2_summary_result.csv'),index_col = False)"
   ]
  },
  {
   "cell_type": "code",
   "execution_count": 12,
   "metadata": {},
   "outputs": [],
   "source": [
    "# Preprocess the dataset so that it can be easy to plot\n",
    "result_group_merge_df_stack = result_group_merge_df.set_index(['ID','Analysis major region','Sex','Stim','Sex_Stim']).stack().reset_index().\\\n",
    "rename(columns = {'level_' + str(len(group_columns)-1):'Variable',0:'Value'})\n",
    "result_group_merge_df_stack['Value'] = result_group_merge_df_stack.Value.astype('float64')\n",
    "result_group_merge_df_stack = result_group_merge_df_stack.groupby(['ID','Analysis major region','Sex','Stim','Sex_Stim','Variable']).mean().reset_index()"
   ]
  },
  {
   "cell_type": "code",
   "execution_count": 13,
   "metadata": {},
   "outputs": [
    {
     "data": {
      "image/png": "[encoded data removed]",
      "text/plain": [
       "<Figure size 150x300 with 1 Axes>"
      ]
     },
     "metadata": {},
     "output_type": "display_data"
    }
   ],
   "source": [
    "fig,axs = plt.subplots(1,1,figsize = (1.5,3))\n",
    "sns.swarmplot(data = result_group_merge_df_stack[(result_group_merge_df_stack['Analysis major region'] == 'MPN')&(\n",
    "    (result_group_merge_df_stack.Variable == 'Vglut2+ Vglut2+ Fos+ positive_cells proportion over gene')|\n",
    "                                                (result_group_merge_df_stack.Variable == 'Vgat+ Vgat+ Fos+ positive_cells proportion over gene'))].\\\n",
    "              groupby(['ID','Analysis major region','Sex','Stim','Sex_Stim','Variable']).mean().reset_index(),\n",
    "             hue = 'Stim',y = 'Value', x = 'Variable',dodge = True,ax = axs,\n",
    "             palette = ['cyan','orange'], marker=\"$\\circ$\", ec=\"face\",s = 8)\n",
    "sns.barplot(data = result_group_merge_df_stack[(result_group_merge_df_stack['Analysis major region'] == 'MPN')&(\n",
    "    (result_group_merge_df_stack.Variable == 'Vglut2+ Vglut2+ Fos+ positive_cells proportion over gene')|\n",
    "                                                (result_group_merge_df_stack.Variable == 'Vgat+ Vgat+ Fos+ positive_cells proportion over gene'))].\\\n",
    "              groupby(['ID','Analysis major region','Sex','Stim','Sex_Stim','Variable']).mean().reset_index(),\n",
    "             hue = 'Stim',y = 'Value', x = 'Variable',dodge = True,ax = axs,errwidth = 1)\n",
    "axs.set_xticklabels(['$\\it{Vgat}$','$\\it{Vglut2}$'])\n",
    "axs.set_ylabel('Proportion of $\\it{Fos}$+ cells')\n",
    "sns.despine()\n",
    "axs.set_xlabel('')\n",
    "axs.get_legend().remove()\n",
    "fig.savefig(os.path.join(figurepath,'FigureS5I.png'),bbox_inches='tight',dpi = 216)\n",
    "fig.savefig(os.path.join(figurepath,'FigureS5I.pdf'),bbox_inches='tight')    \n"
   ]
  },
  {
   "cell_type": "code",
   "execution_count": 14,
   "metadata": {},
   "outputs": [
    {
     "name": "stdout",
     "output_type": "stream",
     "text": [
      "Vglut2 0.01904205968817266\n",
      "Vgat 0.015325767916693525\n"
     ]
    }
   ],
   "source": [
    "#perform two-way Students t-test, then correct with Bonferroni correction\n",
    "from scipy import stats\n",
    "group1 = 'Appetitive'\n",
    "group2 = 'Post_ejaculatory'\n",
    "\n",
    "tempdf = result_group_merge_df_stack[(result_group_merge_df_stack['Analysis major region'] == 'MPN')&(\n",
    "    (result_group_merge_df_stack.Variable == 'Vglut2+ Vglut2+ Fos+ positive_cells proportion over gene')|\n",
    "                                                (result_group_merge_df_stack.Variable == 'Vgat+ Vgat+ Fos+ positive_cells proportion over gene'))].\\\n",
    "              groupby(['ID','Analysis major region','Sex','Stim','Sex_Stim','Variable']).mean().reset_index()\n",
    "\n",
    "pvalues = []\n",
    "statistics = []\n",
    "\n",
    "for gene in ['Vglut2','Vgat',]:\n",
    "    statistic,pvalue = stats.ttest_ind(tempdf[(tempdf.Variable == gene + '+ '+ gene + '+ ' + 'Fos+ positive_cells proportion over gene')\n",
    "      &(tempdf.Stim == 'Appetitive')].Value,\\\n",
    "tempdf[(tempdf.Variable == gene + '+ '+ gene + '+ ' + 'Fos+ positive_cells proportion over gene')\n",
    "      &(tempdf.Stim == 'Post_ejaculatory')].Value)\n",
    "    #print(pvalue)\n",
    "    pvalues.append(pvalue)\n",
    "    statistics.append(statistic)\n",
    "\n",
    "multiple_ttests_S3I = mlt.multipletests(pvalues,method = 'bonferroni')\n",
    "(significance,corr_pvals, __ , __ ) = multiple_ttests_S3I\n",
    "\n",
    "# print the results\n",
    "for gids,gene in enumerate(['Vglut2','Vgat',]):\n",
    "    print(gene,corr_pvals[gids])\n",
    "    # Append the ttest result to manuscript_statistic_file\n",
    "    ttest_bonferroni_correction = pd.DataFrame([{\n",
    "        'Figure': 'FigureS5I',\n",
    "        'variable':f'Proportion of Fos positive_cells',\n",
    "        'Type of Test': 't-test with BH correction',\n",
    "        'Detail': f'{gene}; {group1} vs {group2}',\n",
    "        'statistic description': f't({n1 + n2 -2})',  # Showing \"n\" for each group\n",
    "        'statistic': statistics[gids],\n",
    "        'p Value': corr_pvals[gids]\n",
    "    }])\n",
    "    \n",
    "    # Concatenate to the results DataFrame\n",
    "    manuscript_statistic_file = pd.concat([manuscript_statistic_file, ttest_bonferroni_correction], ignore_index=True)\n",
    "# save results\n",
    "import pickle\n",
    "with open(os.path.join(statspath,'FigureS5I_studentsttest_multitest.pickle'), 'wb') as handle:\n",
    "    pickle.dump(multiple_ttests_S3I, handle, protocol=pickle.HIGHEST_PROTOCOL)"
   ]
  },
  {
   "cell_type": "markdown",
   "metadata": {},
   "source": [
    "# Figure S3J"
   ]
  },
  {
   "cell_type": "code",
   "execution_count": 15,
   "metadata": {},
   "outputs": [
    {
     "name": "stderr",
     "output_type": "stream",
     "text": [
      "c:\\Users\\stuberadmin\\anaconda3\\envs\\cellpose\\lib\\site-packages\\seaborn\\categorical.py:3544: UserWarning: 20.0% of the points cannot be placed; you may want to decrease the size of the markers or use stripplot.\n",
      "  warnings.warn(msg, UserWarning)\n",
      "c:\\Users\\stuberadmin\\anaconda3\\envs\\cellpose\\lib\\site-packages\\seaborn\\categorical.py:3544: UserWarning: 20.0% of the points cannot be placed; you may want to decrease the size of the markers or use stripplot.\n",
      "  warnings.warn(msg, UserWarning)\n"
     ]
    },
    {
     "data": {
      "image/png": "[encoded data removed]",
      "text/plain": [
       "<Figure size 200x600 with 2 Axes>"
      ]
     },
     "metadata": {},
     "output_type": "display_data"
    }
   ],
   "source": [
    "# Specify genes list\n",
    "genes = ['Fos','Vgat','Vglut2','Esr1','Gal','Nts','Calcr','Prlr']\n",
    "\n",
    "# Define a variable to store labels for the first subplot\n",
    "vgat_gene_order = ['Vgat+ ' + gene + '+ Fos+ positive_cells proportion over gene' for gene in genes[3:8]]\n",
    "\n",
    "# Create the figure and subplots\n",
    "fig,axs = plt.subplots(2,1,figsize = (2,6),sharex = True,sharey = False)\n",
    "\n",
    "# Filter the dataframe for the first subplot (Vgat)\n",
    "Vgat_tempdf = result_group_merge_df_stack[(result_group_merge_df_stack['Analysis major region'] == 'MPN') & \\\n",
    "                                                (result_group_merge_df_stack.Variable.isin(vgat_gene_order))]\n",
    "\n",
    "# Group the dataframe by 'Stim', 'ID', 'Variable' and take the mean\n",
    "Vgat_tempdf = Vgat_tempdf.drop(columns=['Analysis major region','Sex_Stim','Sex'])\n",
    "grouped_df = Vgat_tempdf.groupby(['Stim','ID','Variable']).mean().reset_index()\n",
    "\n",
    "# Create bar plot and swarm plot for the first subplot (Vgat)\n",
    "sns.barplot(data=grouped_df, y='Variable', x='Value', hue='Stim', dodge=True, ax=axs[0], order=vgat_gene_order, hue_order=['Appetitive', 'Post_ejaculatory'],errwidth=1)\n",
    "sns.swarmplot(data=grouped_df, y='Variable', x='Value', hue='Stim', dodge=True, ax=axs[0], order=vgat_gene_order, \n",
    "              color=None, edgecolor='k', hue_order=['Appetitive','Post_ejaculatory'], palette=['cyan','orange'], marker=\"$\\circ$\", ec=\"face\", s=8)\n",
    "\n",
    "# Format y-axis labels and remove legend\n",
    "axs[0].set_yticklabels(['$\\it{{{}}}$'.format(f) for f in genes[3:8]])\n",
    "axs[0].get_legend().remove()\n",
    "\n",
    "# Repeat similar steps for the second subplot (Vglut2)\n",
    "Vglut2_gene_order = ['Vglut2+ ' + gene + '+ Fos+ positive_cells proportion over gene' for gene in genes[3:8]]\n",
    "\n",
    "Vglut2_tempdf = result_group_merge_df_stack[(result_group_merge_df_stack['Analysis major region'] == 'MPN') & \\\n",
    "                                                (result_group_merge_df_stack.Variable.isin(Vglut2_gene_order))]\n",
    "\n",
    "Vglut2_tempdf = Vglut2_tempdf.drop(columns=['Analysis major region','Sex_Stim','Sex'])\n",
    "grouped_df = Vglut2_tempdf.groupby(['Stim','ID','Variable']).mean().reset_index()\n",
    "\n",
    "sns.barplot(data=grouped_df, y='Variable', x='Value', hue='Stim', dodge=True, ax=axs[1], order=Vglut2_gene_order, hue_order=['Appetitive','Post_ejaculatory'],errwidth=1)\n",
    "sns.swarmplot(data=grouped_df, y='Variable', x='Value', hue='Stim', dodge=True, ax=axs[1], order=Vglut2_gene_order,\n",
    "              color=None, edgecolor='k', hue_order=['Appetitive','Post_ejaculatory'], palette=['cyan','orange'], marker=\"$\\circ$\", ec=\"face\",s = 8)\n",
    "\n",
    "axs[1].set_yticklabels(['$\\it{{{}}}$'.format(f) for f in genes[3:8]])\n",
    "axs[1].get_legend().remove()\n",
    "\n",
    "# Format labels and titles for subplots\n",
    "[ax.set_xlabel('') for ax in axs]\n",
    "axs[0].set_title('$\\it{Vgat}$')\n",
    "[ax.set_xlabel('Proportion of $\\it{Fos}$+ cells') for ax in axs]\n",
    "[ax.set_ylabel('') for ax in axs]\n",
    "axs[1].set_title('$\\it{Vglut2}$')\n",
    "\n",
    "# Remove the top and right spines from plot\n",
    "sns.despine()\n",
    "\n",
    "fig.savefig(os.path.join(figurepath,'FigureS5J.png'),bbox_inches='tight',dpi = 216)\n",
    "fig.savefig(os.path.join(figurepath,'FigureS5J.pdf'),bbox_inches='tight')    \n",
    "\n"
   ]
  },
  {
   "cell_type": "code",
   "execution_count": 16,
   "metadata": {},
   "outputs": [
    {
     "name": "stdout",
     "output_type": "stream",
     "text": [
      "Vgat+ Calcr+ 0.031794894841769596\n",
      "Vgat+ Esr1+ 0.06859169121462076\n",
      "Vgat+ Gal+ 0.017437375809255504\n",
      "Vgat+ Nts+ 0.14898091230664742\n",
      "Vgat+ Prlr+ 0.021217356164107297\n"
     ]
    }
   ],
   "source": [
    "from scipy import stats\n",
    "group1 = 'Appetitive'\n",
    "group2 = 'Post_ejaculatory'\n",
    "\n",
    "pvalues = []\n",
    "statistics = []\n",
    "\n",
    "tempdf = Vgat_tempdf.groupby(['ID','Stim','Variable']).mean().reset_index()\n",
    "for variable in tempdf.Variable.unique():\n",
    "    a = tempdf[(tempdf.Stim == 'Appetitive')&(tempdf.Variable == variable)].Value\n",
    "    b = tempdf[(tempdf.Stim == 'Post_ejaculatory')&(tempdf.Variable == variable)].Value\n",
    "    #print(b)\n",
    "    #print(len(b))\n",
    "    statistic,pvalue = stats.ttest_ind(a,b)\n",
    "    #print(variable,pvalue)\n",
    "    pvalues.append(pvalue)\n",
    "    statistics.append(statistic)\n",
    "\n",
    "multiple_ttests_S3J_vgat = mlt.multipletests(pvalues,method = 'bonferroni')\n",
    "\n",
    "(significance,corr_pvals, __ , __ ) = multiple_ttests_S3J_vgat\n",
    "\n",
    "\n",
    "# save results\n",
    "import pickle\n",
    "with open(os.path.join(statspath,'FigureS5J_Vgat_studentsttest_multitest.pickle'), 'wb') as handle:\n",
    "    pickle.dump(multiple_ttests_S3J_vgat, handle, protocol=pickle.HIGHEST_PROTOCOL)\n",
    "\n",
    "# print the results\n",
    "for vidx,variable in enumerate(tempdf.Variable.unique()):\n",
    "    print(variable.split(' Fos+')[0],corr_pvals[vidx])\n",
    "    gene = variable.split(' Fos+')[0]\n",
    "    # Append the ttest result to manuscript_statistic_file\n",
    "    ttest_bonferroni_correction = pd.DataFrame([{\n",
    "        'Figure': 'FigureS5J',\n",
    "        'variable':f'Proportion of Fos positive_cells',\n",
    "        'Type of Test': 't-test with BH correction',\n",
    "        'Detail': f'{gene}; {group1} vs {group2}',\n",
    "        'statistic description': f't({n1 + n2 -2})',  # Showing \"n\" for each group\n",
    "        'statistic': statistics[ridx],\n",
    "        'p Value': corr_pvals[ridx]\n",
    "    }])\n",
    "    \n",
    "    # Concatenate to the results DataFrame\n",
    "    manuscript_statistic_file = pd.concat([manuscript_statistic_file, ttest_bonferroni_correction], ignore_index=True)"
   ]
  },
  {
   "cell_type": "code",
   "execution_count": 17,
   "metadata": {},
   "outputs": [
    {
     "name": "stdout",
     "output_type": "stream",
     "text": [
      "Vglut2+ Calcr+ 0.01456014319636953\n",
      "Vglut2+ Esr1+ 0.8222792326903584\n",
      "Vglut2+ Gal+ 0.12987967509982315\n",
      "Vglut2+ Nts+ 0.19511106941466022\n",
      "Vglut2+ Prlr+ 0.1037796107665155\n"
     ]
    }
   ],
   "source": [
    "from scipy import stats\n",
    "group1 = 'Appetitive'\n",
    "group2 = 'Post_ejaculatory'\n",
    "\n",
    "pvalues = []\n",
    "statistics = []\n",
    "\n",
    "tempdf = Vglut2_tempdf.groupby(['ID','Stim','Variable']).mean().reset_index()\n",
    "for variable in tempdf.Variable.unique():\n",
    "    a = tempdf[(tempdf.Stim == 'Appetitive')&(tempdf.Variable == variable)].Value\n",
    "    b = tempdf[(tempdf.Stim == 'Post_ejaculatory')&(tempdf.Variable == variable)].Value\n",
    "    #print(b)\n",
    "    #print(len(b))\n",
    "    __,pvalue = stats.ttest_ind(a,b)\n",
    "    #print(variable,pvalue)\n",
    "    pvalues.append(pvalue)\n",
    "    statistics.append(statistic)\n",
    "multiple_ttests_S3J_vglut2 = mlt.multipletests(pvalues,method = 'bonferroni')\n",
    "\n",
    "(significance,corr_pvals, __ , __ ) = multiple_ttests_S3J_vglut2\n",
    "\n",
    "# print the results\n",
    "for vidx,variable in enumerate(tempdf.Variable.unique()):\n",
    "    print(variable.split(' Fos+')[0],corr_pvals[vidx])\n",
    "    gene = variable.split(' Fos+')[0]\n",
    "    # Append the ttest result to manuscript_statistic_file\n",
    "    ttest_bonferroni_correction = pd.DataFrame([{\n",
    "        'Figure': 'FigureS5J',\n",
    "        'variable':f'Proportion of Fos positive_cells',\n",
    "        'Type of Test': 't-test with BH correction',\n",
    "        'Detail': f'{gene}; {group1} vs {group2}',\n",
    "        'statistic description': f't({n1 + n2 -2})',  # Showing \"n\" for each group\n",
    "        'statistic': statistics[ridx],\n",
    "        'p Value': corr_pvals[ridx]\n",
    "    }])\n",
    "    \n",
    "    # Concatenate to the results DataFrame\n",
    "    manuscript_statistic_file = pd.concat([manuscript_statistic_file, ttest_bonferroni_correction], ignore_index=True)\n",
    "\n",
    "# save results\n",
    "import pickle\n",
    "with open(os.path.join(statspath,'FigureS5J_Vglut2_studentsttest_multitest.pickle'), 'wb') as handle:\n",
    "    pickle.dump(multiple_ttests_S3J_vglut2, handle, protocol=pickle.HIGHEST_PROTOCOL)"
   ]
  },
  {
   "cell_type": "markdown",
   "metadata": {},
   "source": [
    "# Figure S3K and S3L"
   ]
  },
  {
   "cell_type": "markdown",
   "metadata": {},
   "source": [
    "This part will be conducted in R. The result was transferred into the original dataframe."
   ]
  },
  {
   "cell_type": "code",
   "execution_count": 18,
   "metadata": {},
   "outputs": [],
   "source": [
    "# The raw dataframe from HALO with the cluster, cluster_name column which identifies the cluster_id from Seurat\n",
    "regressed_df = pd.read_csv(os.path.join(summary_path,\"MPOA_female_summary_regressed_Seurat_MPN.csv\"),index_col = False)"
   ]
  },
  {
   "cell_type": "code",
   "execution_count": 19,
   "metadata": {},
   "outputs": [],
   "source": [
    "# Preprocess so that it can be easy to plot\n",
    "regressed_grouped_df = regressed_df.groupby(['ID','cluster_name','Stim']).mean().reset_index()\n",
    "\n",
    "# Define the grouping columns\n",
    "group_cols = ['ID','cluster_name',]\n",
    "\n",
    "# Group the data and aggregate the values in col4\n",
    "grouped = regressed_grouped_df.groupby(group_cols).sum()\n",
    "\n",
    "# Create a MultiIndex with all possible combinations of the grouping columns\n",
    "idx = pd.MultiIndex.from_product(\n",
    "    [regressed_grouped_df[col].unique() for col in group_cols],\n",
    "    names=group_cols\n",
    ")\n",
    "\n",
    "# Reindex the grouped data with the MultiIndex to fill in missing combinations\n",
    "result = grouped.reindex(idx, fill_value=0).reset_index()\n",
    "regressed_grouped_df = regressed_df[['ID','Stim']].drop_duplicates().reset_index(drop = True).merge(result,left_on = ['ID','Stim'],right_on = ['ID','Stim'],how = 'left')"
   ]
  },
  {
   "cell_type": "code",
   "execution_count": 20,
   "metadata": {},
   "outputs": [
    {
     "name": "stderr",
     "output_type": "stream",
     "text": [
      "c:\\Users\\stuberadmin\\anaconda3\\envs\\cellpose\\lib\\site-packages\\seaborn\\categorical.py:3544: UserWarning: 20.0% of the points cannot be placed; you may want to decrease the size of the markers or use stripplot.\n",
      "  warnings.warn(msg, UserWarning)\n",
      "c:\\Users\\stuberadmin\\anaconda3\\envs\\cellpose\\lib\\site-packages\\seaborn\\categorical.py:3544: UserWarning: 40.0% of the points cannot be placed; you may want to decrease the size of the markers or use stripplot.\n",
      "  warnings.warn(msg, UserWarning)\n"
     ]
    },
    {
     "data": {
      "image/png": "[encoded data removed]",
      "text/plain": [
       "<Figure size 200x300 with 1 Axes>"
      ]
     },
     "metadata": {},
     "output_type": "display_data"
    }
   ],
   "source": [
    "fig,axs = plt.subplots(1,1,figsize = (2,3))\n",
    "sns.barplot(data = regressed_grouped_df,y = 'cluster_name',x = 'Fos_positive_cells',hue = 'Stim',ax = axs,\n",
    "order = ['Vglut2+','Vgat+','Gal+','Calcr+','Nts+','N.A.'],errwidth=1)\n",
    "sns.swarmplot(data = regressed_grouped_df,y = 'cluster_name',x = 'Fos_positive_cells',hue = 'Stim',dodge = True,ax = axs,\n",
    "order = ['Vglut2+','Vgat+','Gal+','Calcr+','Nts+','N.A.'],palette=['cyan','orange'], marker=\"$\\circ$\", ec=\"face\",s = 8)\n",
    "axs.set_ylabel('')\n",
    "axs.set_yticklabels([str(idx+1) + ': $\\it{{{}}}$+'.format(f) for idx,f in enumerate(['Vglut2','Vgat','Gal','Calcr','Nts'])] + ['6: NA'])\n",
    "sns.despine()\n",
    "axs.set_xlabel('Proportion of $\\it{Fos}$+ cells')\n",
    "axs.get_legend().remove()\n",
    "\n",
    "fig.savefig(os.path.join(figurepath,'FigureS5M.png'),bbox_inches='tight',dpi = 216)\n",
    "fig.savefig(os.path.join(figurepath,'FigureS5M.pdf'),bbox_inches='tight')    \n"
   ]
  },
  {
   "cell_type": "code",
   "execution_count": 21,
   "metadata": {},
   "outputs": [
    {
     "name": "stdout",
     "output_type": "stream",
     "text": [
      "Vglut2+ 0.018911145406379108\n",
      "Vgat+ 0.002166145092146542\n",
      "Gal+ 0.026480213384107214\n",
      "Calcr+ 0.9993275659484173\n",
      "Nts+ 0.37702937392902836\n",
      "N.A. 0.632230782086898\n"
     ]
    }
   ],
   "source": [
    "from scipy import stats\n",
    "from statsmodels.stats.multitest import multipletests\n",
    "\n",
    "group1 = 'Appetitive'\n",
    "group2 = 'Post_ejaculatory'\n",
    "\n",
    "pvalues = []\n",
    "statistics = []\n",
    "\n",
    "clusters = ['Vglut2+','Vgat+','Gal+','Calcr+','Nts+','N.A.']\n",
    "for cluster in clusters:\n",
    "    \n",
    "    a = regressed_grouped_df[(regressed_grouped_df.Stim == 'Appetitive')&(regressed_grouped_df['cluster_name'] == cluster)]['Fos_positive_cells'].values\n",
    "    b = regressed_grouped_df[(regressed_grouped_df.Stim == 'Post_ejaculatory')&(regressed_grouped_df['cluster_name'] == cluster)]['Fos_positive_cells'].values\n",
    "    statistic,pvalue = stats.ttest_ind(a,\\\n",
    "                    b)\n",
    "    #print(\"Cluster\",cluster)\n",
    "    #print(a,b)\n",
    "    #print(pvalue)\n",
    "    pvalues.append(pvalue)\n",
    "    statistics.append(statistic)\n",
    "\n",
    "multiple_ttests_S3M = mlt.multipletests(pvalues,method = 'bonferroni')\n",
    "\n",
    "(significance,corr_pvals, __ , __ ) = multiple_ttests_S3M\n",
    "\n",
    "# print the results\n",
    "for cidx,cluster in enumerate(clusters):\n",
    "    print(cluster,corr_pvals[cidx])\n",
    "\n",
    "    # Append the ttest result to manuscript_statistic_file\n",
    "    ttest_bonferroni_correction = pd.DataFrame([{\n",
    "        'Figure': 'FigureS5M',\n",
    "        'variable':f'Proportion of Fos positive_cells',\n",
    "        'Type of Test': 't-test with BH correction',\n",
    "        'Detail': f'Cluster {cluster}; {group1} vs {group2}',\n",
    "        'statistic description': f't({n1 + n2 -2})',  # Showing \"n\" for each group\n",
    "        'statistic': statistics[ridx],\n",
    "        'p Value': corr_pvals[ridx]\n",
    "    }])\n",
    "    \n",
    "    # Concatenate to the results DataFrame\n",
    "    manuscript_statistic_file = pd.concat([manuscript_statistic_file, ttest_bonferroni_correction], ignore_index=True)\n",
    "# save results\n",
    "import pickle\n",
    "with open(os.path.join(statspath,'FigureS5M_studentsttest_multitest.pickle'), 'wb') as handle:\n",
    "    pickle.dump(multiple_ttests_S3M, handle, protocol=pickle.HIGHEST_PROTOCOL)"
   ]
  },
  {
   "cell_type": "code",
   "execution_count": 22,
   "metadata": {},
   "outputs": [],
   "source": [
    "# Write the stats\n",
    "manuscript_statistic_file.to_csv(manuscript_statistic_filepath,index = False)"
   ]
  }
 ],
 "metadata": {
  "kernelspec": {
   "display_name": "cellpose",
   "language": "python",
   "name": "python3"
  },
  "language_info": {
   "codemirror_mode": {
    "name": "ipython",
    "version": 3
   },
   "file_extension": ".py",
   "mimetype": "text/x-python",
   "name": "python",
   "nbconvert_exporter": "python",
   "pygments_lexer": "ipython3",
   "version": "3.8.17"
  },
  "orig_nbformat": 4
 },
 "nbformat": 4,
 "nbformat_minor": 2
}
