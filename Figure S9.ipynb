{
 "cells": [
  {
   "cell_type": "code",
   "execution_count": 1,
   "metadata": {},
   "outputs": [],
   "source": [
    "import os\n",
    "import pandas as pd \n",
    "import matplotlib.pyplot as plt\n",
    "import numpy as np\n",
    "import seaborn as sns\n",
    "from datetime import datetime\n",
    "import peakutils\n",
    "import math\n",
    "#from moviepy.editor import *\n",
    "import cv2\n",
    "import scipy.stats as stats\n",
    "#important for text to be detected when importing saved figures into illustrator\n",
    "import matplotlib\n",
    "matplotlib.rcParams['pdf.fonttype']=42\n",
    "matplotlib.rcParams['ps.fonttype']=42"
   ]
  },
  {
   "cell_type": "code",
   "execution_count": null,
   "metadata": {},
   "outputs": [],
   "source": [
    "rootpath = r\"...\\Data\\Figure S9\"\n",
    "figurepath = os.path.join(rootpath,\"figure\")\n",
    "metapath = os.path.join(rootpath,\"meta\")\n",
    "datapath = os.path.join(rootpath,\"data\")\n",
    "statspath = os.path.join(rootpath,\"stats\")\n",
    "for x in [figurepath,datapath,metapath,statspath]:\n",
    "    if not os.path.exists(x):\n",
    "        os.mkdir(x)"
   ]
  },
  {
   "cell_type": "code",
   "execution_count": null,
   "metadata": {},
   "outputs": [],
   "source": [
    "# Excel file to store statistical values for manuscript\n",
    "manuscript_statistic_filepath = os.path.join(r\"...\\meta\",\"manuscript_statistic.csv\")\n",
    "manuscript_statistic_file = pd.read_csv(manuscript_statistic_filepath,index_col = False)"
   ]
  },
  {
   "cell_type": "markdown",
   "metadata": {},
   "source": [
    "# Figure S9B,C"
   ]
  },
  {
   "cell_type": "code",
   "execution_count": 4,
   "metadata": {},
   "outputs": [],
   "source": [
    "# The summary of analysis for TRAP cell distribution in the MPOA.\n",
    "# The sections used in antibody staining were used for analysis.\n",
    "# The cells in the MPN were counted.\n",
    "\n",
    "all_probe_cells = pd.read_csv(os.path.join(datapath,'FigS9_all_TRAP_cells.csv'),index_col = False)"
   ]
  },
  {
   "cell_type": "markdown",
   "metadata": {},
   "source": [
    "## Figure S9B"
   ]
  },
  {
   "cell_type": "code",
   "execution_count": 5,
   "metadata": {},
   "outputs": [
    {
     "name": "stderr",
     "output_type": "stream",
     "text": [
      "C:\\Users\\stuberadmin\\AppData\\Local\\Temp;\\ipykernel_16704\\1157878188.py:7: FutureWarning: Passing `palette` without assigning `hue` is deprecated.\n",
      "  sns.swarmplot(data = all_probe_cells,x = 'Stim',y = variable,ax = axs,order = ['Appetitive','Consummatory','Post_ejaculatory'],\n",
      "c:\\Users\\stuberadmin\\anaconda3\\envs\\cellpose\\lib\\site-packages\\seaborn\\categorical.py:3544: UserWarning: 6.7% of the points cannot be placed; you may want to decrease the size of the markers or use stripplot.\n",
      "  warnings.warn(msg, UserWarning)\n"
     ]
    },
    {
     "data": {
      "image/png": "[encoded data removed]",
      "text/plain": [
       "<Figure size 120x200 with 1 Axes>"
      ]
     },
     "metadata": {},
     "output_type": "display_data"
    }
   ],
   "source": [
    "variable = 'Probe_cells'\n",
    "figure_key = 'S9B'\n",
    "\n",
    "fig,axs = plt.subplots(1,1,figsize = (1.2,2.))\n",
    "sns.barplot(data = all_probe_cells,x = 'Stim',y = variable,ax = axs,order = ['Appetitive','Consummatory','Post_ejaculatory'],\n",
    "errwidth = 1,palette = ['green','blue','orange'],color= 'k')\n",
    "sns.swarmplot(data = all_probe_cells,x = 'Stim',y = variable,ax = axs,order = ['Appetitive','Consummatory','Post_ejaculatory'],\n",
    "facecolors='none',palette = ['lime','cyan','orangered'], marker=\"$\\circ$\", ec=\"face\",s = 8)\n",
    "sns.despine()\n",
    "axs.set_xticklabels(['App.','Cons.','Post-ejac.'],rotation = -45)\n",
    "axs.set_xlabel('')\n",
    "axs.set_ylabel('Total TRAP cells')\n",
    "fig.savefig(os.path.join(figurepath,f'Figure{figure_key}.png'),dpi = 216,bbox_inches ='tight')\n",
    "fig.savefig(os.path.join(figurepath,f'Figure{figure_key}.pdf'),bbox_inches ='tight')"
   ]
  },
  {
   "cell_type": "code",
   "execution_count": 6,
   "metadata": {},
   "outputs": [],
   "source": [
    "import statsmodels.api as sm\n",
    "from statsmodels.formula.api import ols\n",
    "from scipy.stats import tukey_hsd\n",
    "from statsmodels.stats.multicomp import pairwise_tukeyhsd\n",
    "import pickle\n",
    "#perform two-way ANOVA\n",
    "model = ols(f'{variable} ~ C(Stim)', data=all_probe_cells).fit()\n",
    "#sm.stats.anova_lm(model, typ=2)\n",
    "table = sm.stats.anova_lm(model, typ=2)\n",
    "\n",
    "# Extract ANOVA results\n",
    "anova_df1 = table['df'].values[0]  # Between-subject df\n",
    "anova_df2 = table['df'].values[1]  # Error df\n",
    "anova_F = table['F'].values[0]\n",
    "anova_p = table['PR(>F)'].values[0]\n",
    "# Append ANOVA result to DataFrame (using pd.concat instead of append)\n",
    "anova_data = pd.DataFrame([{\n",
    "    'Figure': f'Figure{figure_key}',\n",
    "    'variable':'Total number of TRAP cells',\n",
    "    'Type of Test': 'One-way ANOVA',\n",
    "    'Detail': 'across states',\n",
    "    'statistic description': f'F({anova_df1},{anova_df2})',\n",
    "    'statistic': anova_F,\n",
    "    'p Value': anova_p\n",
    "}])\n",
    "\n",
    "# Concatenate the new data with the existing results DataFrame\n",
    "manuscript_statistic_file = pd.concat([manuscript_statistic_file, anova_data], ignore_index=True)\n",
    "# Run Tukey's HSD test\n",
    "tukey_results = pairwise_tukeyhsd(all_probe_cells[variable],all_probe_cells['Stim'])\n",
    "tukey_summary = tukey_results.summary()\n",
    "\n",
    "# Save the Tukey results to a file\n",
    "with open(os.path.join(statspath, f'Figure{figure_key}_TukeyHSD.pickle'), 'wb') as handle:\n",
    "    pickle.dump(tukey_results, handle, protocol=pickle.HIGHEST_PROTOCOL)\n",
    "\n",
    "# Append Tukey HSD results to DataFrame\n",
    "for comparison in tukey_summary.data[1:]:\n",
    "    group1, group2, meandiff, p_adj, lower, upper, reject = comparison\n",
    "\n",
    "    # Append posthoc result to DataFrame (using pd.concat instead of append)\n",
    "    ttukeyHSD_df = pd.DataFrame([{\n",
    "        'Figure': f'Figure{figure_key}',\n",
    "        'variable':'Total number of TRAP cells',\n",
    "        'Type of Test': 'Tukey HSD',\n",
    "        'Detail': f'{group1} vs {group2}',\n",
    "        'statistic description': 'meandiff',\n",
    "        'statistic': meandiff,\n",
    "        'p Value': p_adj\n",
    "    }])\n",
    "\n",
    "    # Concatenate the new data with the existing results DataFrame\n",
    "    manuscript_statistic_file = pd.concat([manuscript_statistic_file, ttukeyHSD_df], ignore_index=True)"
   ]
  },
  {
   "cell_type": "markdown",
   "metadata": {},
   "source": [
    "## Figure S9C"
   ]
  },
  {
   "cell_type": "code",
   "execution_count": 7,
   "metadata": {},
   "outputs": [
    {
     "name": "stderr",
     "output_type": "stream",
     "text": [
      "C:\\Users\\stuberadmin\\AppData\\Local\\Temp;\\ipykernel_16704\\175216996.py:7: FutureWarning: Passing `palette` without assigning `hue` is deprecated.\n",
      "  sns.swarmplot(data = all_probe_cells,x = 'Stim',y = variable,ax = axs,order = ['Appetitive','Consummatory','Post_ejaculatory'],\n",
      "c:\\Users\\stuberadmin\\anaconda3\\envs\\cellpose\\lib\\site-packages\\seaborn\\categorical.py:3544: UserWarning: 14.3% of the points cannot be placed; you may want to decrease the size of the markers or use stripplot.\n",
      "  warnings.warn(msg, UserWarning)\n",
      "c:\\Users\\stuberadmin\\anaconda3\\envs\\cellpose\\lib\\site-packages\\seaborn\\categorical.py:3544: UserWarning: 13.3% of the points cannot be placed; you may want to decrease the size of the markers or use stripplot.\n",
      "  warnings.warn(msg, UserWarning)\n"
     ]
    },
    {
     "data": {
      "image/png": "[encoded data removed]",
      "text/plain": [
       "<Figure size 120x200 with 1 Axes>"
      ]
     },
     "metadata": {},
     "output_type": "display_data"
    }
   ],
   "source": [
    "variable = 'Proportion_of_TRAP_cells_in_MPN'\n",
    "figure_key = 'S9C'\n",
    "\n",
    "fig,axs = plt.subplots(1,1,figsize = (1.2,2.))\n",
    "sns.barplot(data = all_probe_cells,x = 'Stim',y = variable,ax = axs,order = ['Appetitive','Consummatory','Post_ejaculatory'],\n",
    "errwidth = 1,palette = ['green','blue','orange'],color= 'k')\n",
    "sns.swarmplot(data = all_probe_cells,x = 'Stim',y = variable,ax = axs,order = ['Appetitive','Consummatory','Post_ejaculatory'],\n",
    "facecolors='none',palette = ['lime','cyan','orangered'], marker=\"$\\circ$\", ec=\"face\",s = 8)\n",
    "sns.despine()\n",
    "axs.set_xticklabels(['App.','Cons.','Post-ejac.'],rotation = -45)\n",
    "axs.set_xlabel('')\n",
    "axs.set_ylabel('Proportion of TRAP cells in MPN')\n",
    "fig.savefig(os.path.join(figurepath,f'Figure{figure_key}.png'),dpi = 216,bbox_inches ='tight')\n",
    "fig.savefig(os.path.join(figurepath,f'Figure{figure_key}.pdf'),bbox_inches ='tight')"
   ]
  },
  {
   "cell_type": "code",
   "execution_count": 8,
   "metadata": {},
   "outputs": [
    {
     "name": "stdout",
     "output_type": "stream",
     "text": [
      "            sum_sq    df         F    PR(>F)\n",
      "C(Stim)   0.131161   2.0  4.333471  0.024731\n",
      "Residual  0.363202  24.0       NaN       NaN\n",
      "        Multiple Comparison of Means - Tukey HSD, FWER=0.05        \n",
      "===================================================================\n",
      "   group1         group2      meandiff p-adj   lower  upper  reject\n",
      "-------------------------------------------------------------------\n",
      "  Appetitive     Consummatory   0.0048 0.9975 -0.1751 0.1847  False\n",
      "  Appetitive Post_ejaculatory   0.1422 0.0471  0.0016 0.2829   True\n",
      "Consummatory Post_ejaculatory   0.1374 0.0984 -0.0212 0.2961  False\n",
      "-------------------------------------------------------------------\n"
     ]
    }
   ],
   "source": [
    "import statsmodels.api as sm\n",
    "from statsmodels.formula.api import ols\n",
    "from scipy.stats import tukey_hsd\n",
    "from statsmodels.stats.multicomp import pairwise_tukeyhsd\n",
    "import pickle\n",
    "#perform two-way ANOVA\n",
    "model = ols(f'{variable} ~ C(Stim)', data=all_probe_cells).fit()\n",
    "#sm.stats.anova_lm(model, typ=2)\n",
    "table = sm.stats.anova_lm(model, typ=2)\n",
    "print(table)\n",
    "# Extract ANOVA results\n",
    "anova_df1 = table['df'].values[0]  # Between-subject df\n",
    "anova_df2 = table['df'].values[1]  # Error df\n",
    "anova_F = table['F'].values[0]\n",
    "anova_p = table['PR(>F)'].values[0]\n",
    "# Append ANOVA result to DataFrame (using pd.concat instead of append)\n",
    "anova_data = pd.DataFrame([{\n",
    "    'Figure': f'Figure{figure_key}',\n",
    "    'variable':variable,\n",
    "    'Type of Test': 'One-way ANOVA',\n",
    "    'Detail': 'across states',\n",
    "    'statistic description': f'F({anova_df1},{anova_df2})',\n",
    "    'statistic': anova_F,\n",
    "    'p Value': anova_p\n",
    "}])\n",
    "\n",
    "# Concatenate the new data with the existing results DataFrame\n",
    "manuscript_statistic_file = pd.concat([manuscript_statistic_file, anova_data], ignore_index=True)\n",
    "# Run Tukey's HSD test\n",
    "tukey_results = pairwise_tukeyhsd(all_probe_cells[variable],all_probe_cells['Stim'])\n",
    "tukey_summary = tukey_results.summary()\n",
    "print(tukey_summary)\n",
    "# Save the Tukey results to a file\n",
    "with open(os.path.join(statspath, f'Figure{figure_key}_TukeyHSD.pickle'), 'wb') as handle:\n",
    "    pickle.dump(tukey_results, handle, protocol=pickle.HIGHEST_PROTOCOL)\n",
    "\n",
    "# Append Tukey HSD results to DataFrame\n",
    "for comparison in tukey_summary.data[1:]:\n",
    "    group1, group2, meandiff, p_adj, lower, upper, reject = comparison\n",
    "\n",
    "    # Append posthoc result to DataFrame (using pd.concat instead of append)\n",
    "    ttukeyHSD_df = pd.DataFrame([{\n",
    "        'Figure': f'Figure{figure_key}',\n",
    "        'variable':'Total number of TRAP cells',\n",
    "        'Type of Test': 'Tukey HSD',\n",
    "        'Detail': f'{group1} vs {group2}',\n",
    "        'statistic description': 'meandiff',\n",
    "        'statistic': meandiff,\n",
    "        'p Value': p_adj\n",
    "    }])\n",
    "\n",
    "    # Concatenate the new data with the existing results DataFrame\n",
    "    manuscript_statistic_file = pd.concat([manuscript_statistic_file, ttukeyHSD_df], ignore_index=True)"
   ]
  },
  {
   "cell_type": "markdown",
   "metadata": {},
   "source": [
    "# Figure S9E-G"
   ]
  },
  {
   "cell_type": "code",
   "execution_count": 9,
   "metadata": {},
   "outputs": [],
   "source": [
    "# The summary of analysis for c-Fos antibody staining in the MPOA.\n",
    "\n",
    "HCR_summary = pd.read_csv(os.path.join(datapath,'FigS9_ISH_data.csv'),index_col = False)"
   ]
  },
  {
   "cell_type": "markdown",
   "metadata": {},
   "source": [
    "## Figure S9E"
   ]
  },
  {
   "cell_type": "code",
   "execution_count": 10,
   "metadata": {},
   "outputs": [
    {
     "name": "stderr",
     "output_type": "stream",
     "text": [
      "C:\\Users\\stuberadmin\\AppData\\Local\\Temp;\\ipykernel_16704\\1372923924.py:7: FutureWarning: Passing `palette` without assigning `hue` is deprecated.\n",
      "  sns.swarmplot(data = HCR_summary,x = 'Stim',y = variable,ax = axs,order = ['Appetitive','Post_ejaculatory'],\n"
     ]
    },
    {
     "data": {
      "image/png": "[encoded data removed]",
      "text/plain": [
       "<Figure size 120x210 with 1 Axes>"
      ]
     },
     "metadata": {},
     "output_type": "display_data"
    }
   ],
   "source": [
    "variable = 'Vgat_TRAP_cells'\n",
    "figure_key = 'S9E'\n",
    "\n",
    "fig,axs = plt.subplots(1,1,figsize = (1.2,2.1))\n",
    "sns.barplot(data = HCR_summary,x = 'Stim',y = variable,ax = axs,order = ['Appetitive','Post_ejaculatory'],\n",
    "errwidth = 1,palette = ['green','darkorange'],color= 'k')\n",
    "sns.swarmplot(data = HCR_summary,x = 'Stim',y = variable,ax = axs,order = ['Appetitive','Post_ejaculatory'],\n",
    "facecolors='none',palette = ['lime','orange'], marker=\"$\\circ$\", ec=\"face\",s = 8)\n",
    "sns.despine()\n",
    "axs.set_xticklabels(['App.','Post-ejac.'],rotation = -45)\n",
    "axs.set_xlabel('')\n",
    "axs.set_ylabel('# of $\\it{Vgat}$+ TRAP cells')\n",
    "fig.savefig(os.path.join(figurepath,f'Figure{figure_key}.png'),dpi = 216,bbox_inches ='tight')\n",
    "fig.savefig(os.path.join(figurepath,f'Figure{figure_key}.pdf'),bbox_inches ='tight')"
   ]
  },
  {
   "cell_type": "code",
   "execution_count": 11,
   "metadata": {},
   "outputs": [
    {
     "name": "stdout",
     "output_type": "stream",
     "text": [
      "Vgat_TRAP_cells 0.21047443171312208 False\n",
      "6 7\n"
     ]
    }
   ],
   "source": [
    "# Statistical test for Figure S7B\n",
    "\n",
    "from scipy.stats import ttest_ind\n",
    "\n",
    "alpha = 0.05\n",
    "\n",
    "# extract # of TRAP cells\n",
    "# run ttest-ind on the # of TRAP cells between the Appetitive TRAP and Post_ejaculatory TRAP condition\n",
    "group1 = 'Appetitive'\n",
    "group2 = 'Post_ejaculatory'\n",
    "ctl = HCR_summary.loc[HCR_summary.Stim == group1,variable].values\n",
    "test = HCR_summary.loc[HCR_summary.Stim == group2,variable].values\n",
    "ttest_stats = ttest_ind(ctl,test)\n",
    "tstats,pval = ttest_stats\n",
    "print(variable,pval,pval < alpha)\n",
    "print(len(ctl),len(test))\n",
    "\n",
    "# save results\n",
    "import pickle\n",
    "with open(os.path.join(statspath,f'Figure{figure_key}_ttest.pickle'), 'wb') as handle:\n",
    "    pickle.dump(ttest_stats, handle, protocol=pickle.HIGHEST_PROTOCOL)\n",
    "\n",
    "ttest = pd.DataFrame([{\n",
    "        'Figure': f'Figure{figure_key}',\n",
    "        'variable':variable,\n",
    "        'Type of Test': 'Students t-test',\n",
    "        'Detail': f'{group1} vs {group2}',\n",
    "        'statistic description': f't({len(ctl) + len(test) -2})',  # Showing \"n\" for each group\n",
    "        'statistic': tstats,\n",
    "        'p Value': pval\n",
    "    }])\n",
    "\n",
    "# Concatenate to the results DataFrame\n",
    "manuscript_statistic_file = pd.concat([manuscript_statistic_file, ttest], ignore_index=True)"
   ]
  },
  {
   "cell_type": "markdown",
   "metadata": {},
   "source": [
    "## Figure S9F"
   ]
  },
  {
   "cell_type": "code",
   "execution_count": 12,
   "metadata": {},
   "outputs": [
    {
     "name": "stderr",
     "output_type": "stream",
     "text": [
      "C:\\Users\\stuberadmin\\AppData\\Local\\Temp;\\ipykernel_16704\\2664041005.py:7: FutureWarning: Passing `palette` without assigning `hue` is deprecated.\n",
      "  sns.swarmplot(data = HCR_summary,x = 'Stim',y = variable,ax = axs,order = ['Appetitive','Post_ejaculatory'],\n"
     ]
    },
    {
     "data": {
      "image/png": "[encoded data removed]",
      "text/plain": [
       "<Figure size 120x210 with 1 Axes>"
      ]
     },
     "metadata": {},
     "output_type": "display_data"
    }
   ],
   "source": [
    "variable = 'Vglut2_TRAP_cells'\n",
    "figure_key = 'S9F'\n",
    "\n",
    "fig,axs = plt.subplots(1,1,figsize = (1.2,2.1))\n",
    "sns.barplot(data = HCR_summary,x = 'Stim',y = variable,ax = axs,order = ['Appetitive','Post_ejaculatory'],\n",
    "errwidth = 1,palette = ['green','darkorange'],color= 'k')\n",
    "sns.swarmplot(data = HCR_summary,x = 'Stim',y = variable,ax = axs,order = ['Appetitive','Post_ejaculatory'],\n",
    "facecolors='none',palette = ['lime','orange'], marker=\"$\\circ$\", ec=\"face\",s = 8)\n",
    "sns.despine()\n",
    "axs.set_xticklabels(['App.','Post-ejac.'],rotation = -45)\n",
    "axs.set_xlabel('')\n",
    "axs.set_ylabel('# of $\\it{Vgat}$+ TRAP cells')\n",
    "fig.savefig(os.path.join(figurepath,f'Figure{figure_key}.png'),dpi = 216,bbox_inches ='tight')\n",
    "fig.savefig(os.path.join(figurepath,f'Figure{figure_key}.pdf'),bbox_inches ='tight')"
   ]
  },
  {
   "cell_type": "code",
   "execution_count": 13,
   "metadata": {},
   "outputs": [
    {
     "name": "stdout",
     "output_type": "stream",
     "text": [
      "Vglut2_TRAP_cells 0.44527542302599477 False\n",
      "6 7\n"
     ]
    }
   ],
   "source": [
    "# Statistical test for Figure S7B\n",
    "\n",
    "from scipy.stats import ttest_ind\n",
    "\n",
    "alpha = 0.05\n",
    "\n",
    "# extract # of TRAP cells\n",
    "# run ttest-ind on the # of TRAP cells between the Appetitive TRAP and Post_ejaculatory TRAP condition\n",
    "group1 = 'Appetitive'\n",
    "group2 = 'Post_ejaculatory'\n",
    "ctl = HCR_summary.loc[HCR_summary.Stim == group1,variable].values\n",
    "test = HCR_summary.loc[HCR_summary.Stim == group2,variable].values\n",
    "ttest_stats = ttest_ind(ctl,test)\n",
    "tstats,pval = ttest_stats\n",
    "print(variable,pval,pval < alpha)\n",
    "print(len(ctl),len(test))\n",
    "\n",
    "# save results\n",
    "import pickle\n",
    "with open(os.path.join(statspath,f'Figure{figure_key}_ttest.pickle'), 'wb') as handle:\n",
    "    pickle.dump(ttest_stats, handle, protocol=pickle.HIGHEST_PROTOCOL)\n",
    "\n",
    "ttest = pd.DataFrame([{\n",
    "        'Figure': f'Figure{figure_key}',\n",
    "        'variable':variable,\n",
    "        'Type of Test': 'Students t-test',\n",
    "        'Detail': f'{group1} vs {group2}',\n",
    "        'statistic description': f't({len(ctl) + len(test) -2})',  # Showing \"n\" for each group\n",
    "        'statistic': tstats,\n",
    "        'p Value': pval\n",
    "    }])\n",
    "\n",
    "# Concatenate to the results DataFrame\n",
    "manuscript_statistic_file = pd.concat([manuscript_statistic_file, ttest], ignore_index=True)"
   ]
  },
  {
   "cell_type": "markdown",
   "metadata": {},
   "source": [
    "## Figure S9G"
   ]
  },
  {
   "cell_type": "code",
   "execution_count": 14,
   "metadata": {},
   "outputs": [],
   "source": [
    "meta_columns = ['ID', 'Group', 'Stim']\n",
    "\n",
    "tempdf = HCR_summary[meta_columns + ['Vgat_probability','Vglut2_probability']].set_index(meta_columns).stack().reset_index().rename(\n",
    "    columns = {'level_3':'Variable',0:'Value'})"
   ]
  },
  {
   "cell_type": "code",
   "execution_count": 15,
   "metadata": {},
   "outputs": [
    {
     "name": "stderr",
     "output_type": "stream",
     "text": [
      "C:\\Users\\stuberadmin\\AppData\\Local\\Temp;\\ipykernel_16704\\3524699022.py:14: UserWarning: FixedFormatter should only be used together with FixedLocator\n",
      "  axs[0].set_xticklabels(['$\\it{Vgat}$','$\\it{Vglut2}$'])\n"
     ]
    },
    {
     "data": {
      "image/png": "[encoded data removed]",
      "text/plain": [
       "<Figure size 230x210 with 2 Axes>"
      ]
     },
     "metadata": {},
     "output_type": "display_data"
    }
   ],
   "source": [
    "figure_key = 'S9G'\n",
    "\n",
    "fig,axs = plt.subplots(1,2,figsize = (2.3,2.1),sharex = True,sharey = True)\n",
    "sns.lineplot(data = tempdf[tempdf.Stim == 'Appetitive'],color = 'green',x = 'Variable',y = 'Value',ax = axs[0],\n",
    "            err_style= None,lw = 2)\n",
    "sns.lineplot(data = tempdf[tempdf.Stim == 'Appetitive'],color = 'green',x = 'Variable',y = 'Value',ax = axs[0],\n",
    "            estimator = None,units = 'ID',alpha = 0.5,lw = 1)\n",
    "sns.lineplot(data = tempdf[tempdf.Stim == 'Post_ejaculatory'],color = 'orange',x = 'Variable',y = 'Value',ax = axs[1],\n",
    "            err_style= None,lw = 2)\n",
    "sns.lineplot(data = tempdf[tempdf.Stim == 'Post_ejaculatory'],color = 'orange',x = 'Variable',y = 'Value',ax = axs[1],\n",
    "            estimator = None,units = 'ID',alpha = 0.5,lw = 1)\n",
    "axs[0].set_ylim(0,1)\n",
    "axs[0].set_xlim(-0.2,1.2)\n",
    "axs[0].set_xticklabels(['$\\it{Vgat}$','$\\it{Vglut2}$'])\n",
    "[ax.set_xlabel('') for ax in axs]\n",
    "axs[0].set_ylabel('Proportion of TRAP cells')\n",
    "sns.despine()\n",
    "fig.savefig(os.path.join(figurepath,f'Figure{figure_key}.png'),dpi = 216,bbox_inches ='tight')\n",
    "fig.savefig(os.path.join(figurepath,f'Figure{figure_key}.pdf'),bbox_inches ='tight')"
   ]
  },
  {
   "cell_type": "code",
   "execution_count": 16,
   "metadata": {},
   "outputs": [
    {
     "name": "stdout",
     "output_type": "stream",
     "text": [
      "Proportion of TRAP cells 0.0011875723052213 True\n",
      "6 6\n"
     ]
    }
   ],
   "source": [
    "# Statistical test for Figure S7B\n",
    "\n",
    "from scipy.stats import ttest_rel\n",
    "\n",
    "alpha = 0.05\n",
    "\n",
    "# extract # of TRAP cells\n",
    "# run ttest-ind on the # of TRAP cells between the Appetitive TRAP and Post_ejaculatory TRAP condition\n",
    "variable = 'Proportion of TRAP cells'\n",
    "group1 = 'Vgat'\n",
    "group2 = 'Vglut2'\n",
    "ctl = tempdf[(tempdf.Stim == 'Appetitive')&(tempdf.Variable == f'{group1}_probability')].Value.values\n",
    "test = tempdf[(tempdf.Stim == 'Appetitive')&(tempdf.Variable == f'{group2}_probability')].Value.values\n",
    "ttest_stats = ttest_rel(ctl,test)\n",
    "tstats,pval = ttest_stats\n",
    "print(variable,pval,pval < alpha)\n",
    "print(len(ctl),len(test))\n",
    "\n",
    "# save results\n",
    "import pickle\n",
    "with open(os.path.join(statspath,f'Figure{figure_key}_ttest.pickle'), 'wb') as handle:\n",
    "    pickle.dump(ttest_stats, handle, protocol=pickle.HIGHEST_PROTOCOL)\n",
    "\n",
    "ttest = pd.DataFrame([{\n",
    "        'Figure': f'Figure{figure_key}',\n",
    "        'variable':variable,\n",
    "        'Type of Test': 'Students relative t-test',\n",
    "        'Detail': f'Appetitive; {group1} vs {group2}',\n",
    "        'statistic description': f't({len(ctl) + len(test) -2})',  # Showing \"n\" for each group\n",
    "        'statistic': tstats,\n",
    "        'p Value': pval * 2 \n",
    "    }])\n",
    "\n",
    "# Concatenate to the results DataFrame\n",
    "manuscript_statistic_file = pd.concat([manuscript_statistic_file, ttest], ignore_index=True)"
   ]
  },
  {
   "cell_type": "code",
   "execution_count": 17,
   "metadata": {},
   "outputs": [
    {
     "name": "stdout",
     "output_type": "stream",
     "text": [
      "Proportion of TRAP cells 8.465535527467406e-06 True\n",
      "7 7\n"
     ]
    }
   ],
   "source": [
    "# Statistical test for Figure S7B\n",
    "\n",
    "from scipy.stats import ttest_rel\n",
    "\n",
    "alpha = 0.05\n",
    "\n",
    "# extract # of TRAP cells\n",
    "# run ttest-ind on the # of TRAP cells between the Appetitive TRAP and Post_ejaculatory TRAP condition\n",
    "variable = 'Proportion of TRAP cells'\n",
    "group1 = 'Vgat'\n",
    "group2 = 'Vglut2'\n",
    "ctl = tempdf[(tempdf.Stim == 'Post_ejaculatory')&(tempdf.Variable == f'{group1}_probability')].Value.values\n",
    "test = tempdf[(tempdf.Stim == 'Post_ejaculatory')&(tempdf.Variable == f'{group2}_probability')].Value.values\n",
    "ttest_stats = ttest_rel(ctl,test)\n",
    "tstats,pval = ttest_stats\n",
    "print(variable,pval,pval < alpha)\n",
    "print(len(ctl),len(test))\n",
    "\n",
    "# save results\n",
    "import pickle\n",
    "with open(os.path.join(statspath,f'Figure{figure_key}_ttest.pickle'), 'wb') as handle:\n",
    "    pickle.dump(ttest_stats, handle, protocol=pickle.HIGHEST_PROTOCOL)\n",
    "\n",
    "ttest = pd.DataFrame([{\n",
    "        'Figure': f'Figure{figure_key}',\n",
    "        'variable':variable,\n",
    "        'Type of Test': 'Students relative t-test',\n",
    "        'Detail': f'Post_ejaculatory; {group1} vs {group2}',\n",
    "        'statistic description': f't({len(ctl) + len(test) -2})',  # Showing \"n\" for each group\n",
    "        'statistic': tstats,\n",
    "        'p Value': pval * 2 \n",
    "    }])\n",
    "\n",
    "# Concatenate to the results DataFrame\n",
    "manuscript_statistic_file = pd.concat([manuscript_statistic_file, ttest], ignore_index=True)"
   ]
  },
  {
   "cell_type": "markdown",
   "metadata": {},
   "source": [
    "# Figure S9I-L"
   ]
  },
  {
   "cell_type": "code",
   "execution_count": 18,
   "metadata": {},
   "outputs": [],
   "source": [
    "# The summary of analysis for c-Fos antibody staining in the MPOA.\n",
    "# The sections used with hM3Dq were used for analysis.\n",
    "\n",
    "antibody_summary = pd.read_csv(os.path.join(datapath,'FigS9_antibody_data.csv'),index_col = False)"
   ]
  },
  {
   "cell_type": "markdown",
   "metadata": {},
   "source": [
    "## Figure S9I"
   ]
  },
  {
   "cell_type": "code",
   "execution_count": 19,
   "metadata": {},
   "outputs": [
    {
     "name": "stderr",
     "output_type": "stream",
     "text": [
      "C:\\Users\\stuberadmin\\AppData\\Local\\Temp;\\ipykernel_16704\\2027029338.py:7: FutureWarning: Passing `palette` without assigning `hue` is deprecated.\n",
      "  sns.swarmplot(data = antibody_summary,x = 'Stim',y = variable,ax = axs,order = ['Appetitive','Consummatory','Post_ejaculatory'],\n",
      "c:\\Users\\stuberadmin\\anaconda3\\envs\\cellpose\\lib\\site-packages\\seaborn\\categorical.py:3544: UserWarning: 14.3% of the points cannot be placed; you may want to decrease the size of the markers or use stripplot.\n",
      "  warnings.warn(msg, UserWarning)\n",
      "c:\\Users\\stuberadmin\\anaconda3\\envs\\cellpose\\lib\\site-packages\\seaborn\\categorical.py:3544: UserWarning: 20.0% of the points cannot be placed; you may want to decrease the size of the markers or use stripplot.\n",
      "  warnings.warn(msg, UserWarning)\n"
     ]
    },
    {
     "data": {
      "image/png": "[encoded data removed]",
      "text/plain": [
       "<Figure size 120x210 with 1 Axes>"
      ]
     },
     "metadata": {},
     "output_type": "display_data"
    }
   ],
   "source": [
    "variable = 'proportion_dp_cells'\n",
    "figure_key = 'S9I'\n",
    "\n",
    "fig,axs = plt.subplots(1,1,figsize = (1.2,2.1))\n",
    "sns.barplot(data = antibody_summary,x = 'Stim',y = variable,ax = axs,order = ['Appetitive','Consummatory','Post_ejaculatory'],\n",
    "errwidth = 1,palette = ['green','blue','orange'],color= 'k')\n",
    "sns.swarmplot(data = antibody_summary,x = 'Stim',y = variable,ax = axs,order = ['Appetitive','Consummatory','Post_ejaculatory'],\n",
    "facecolors='none',palette = ['lime','cyan','orangered'], marker=\"$\\circ$\", ec=\"face\",s = 8)\n",
    "sns.despine()\n",
    "axs.set_xticklabels(['App.','Cons.','Post-ejac.'],rotation = -45)\n",
    "axs.set_xlabel('')\n",
    "axs.set_ylabel('Proportion of c-Fos+ TRAP+ cells')\n",
    "fig.savefig(os.path.join(figurepath,f'Figure{figure_key}.png'),dpi = 216,bbox_inches ='tight')\n",
    "fig.savefig(os.path.join(figurepath,f'Figure{figure_key}.pdf'),bbox_inches ='tight')"
   ]
  },
  {
   "cell_type": "code",
   "execution_count": 20,
   "metadata": {},
   "outputs": [
    {
     "name": "stdout",
     "output_type": "stream",
     "text": [
      "            sum_sq    df         F   PR(>F)\n",
      "C(Stim)   0.000806   2.0  3.256915  0.06347\n",
      "Residual  0.002104  17.0       NaN      NaN\n",
      "        Multiple Comparison of Means - Tukey HSD, FWER=0.05        \n",
      "===================================================================\n",
      "   group1         group2      meandiff p-adj   lower  upper  reject\n",
      "-------------------------------------------------------------------\n",
      "  Appetitive     Consummatory  -0.0003 0.9991  -0.017 0.0165  False\n",
      "  Appetitive Post_ejaculatory   0.0128 0.0942 -0.0019 0.0276  False\n",
      "Consummatory Post_ejaculatory   0.0131 0.1268 -0.0032 0.0294  False\n",
      "-------------------------------------------------------------------\n"
     ]
    }
   ],
   "source": [
    "import statsmodels.api as sm\n",
    "from statsmodels.formula.api import ols\n",
    "from scipy.stats import tukey_hsd\n",
    "from statsmodels.stats.multicomp import pairwise_tukeyhsd\n",
    "import pickle\n",
    "#perform two-way ANOVA\n",
    "model = ols(f'{variable} ~ C(Stim)', data=antibody_summary).fit()\n",
    "#sm.stats.anova_lm(model, typ=2)\n",
    "table = sm.stats.anova_lm(model, typ=2)\n",
    "print(table)\n",
    "# Extract ANOVA results\n",
    "anova_df1 = table['df'].values[0]  # Between-subject df\n",
    "anova_df2 = table['df'].values[1]  # Error df\n",
    "anova_F = table['F'].values[0]\n",
    "anova_p = table['PR(>F)'].values[0]\n",
    "# Append ANOVA result to DataFrame (using pd.concat instead of append)\n",
    "anova_data = pd.DataFrame([{\n",
    "    'Figure': f'Figure{figure_key}',\n",
    "    'variable':'Total number of TRAP cells',\n",
    "    'Type of Test': 'One-way ANOVA',\n",
    "    'Detail': 'across states',\n",
    "    'statistic description': f'F({anova_df1},{anova_df2})',\n",
    "    'statistic': anova_F,\n",
    "    'p Value': anova_p\n",
    "}])\n",
    "\n",
    "# Concatenate the new data with the existing results DataFrame\n",
    "manuscript_statistic_file = pd.concat([manuscript_statistic_file, anova_data], ignore_index=True)\n",
    "# Run Tukey's HSD test\n",
    "tukey_results = pairwise_tukeyhsd(antibody_summary[variable],antibody_summary['Stim'])\n",
    "tukey_summary = tukey_results.summary()\n",
    "print(tukey_summary)\n",
    "# Save the Tukey results to a file\n",
    "with open(os.path.join(statspath, f'Figure{figure_key}_TukeyHSD.pickle'), 'wb') as handle:\n",
    "    pickle.dump(tukey_results, handle, protocol=pickle.HIGHEST_PROTOCOL)\n",
    "\n",
    "# Append Tukey HSD results to DataFrame\n",
    "for comparison in tukey_summary.data[1:]:\n",
    "    group1, group2, meandiff, p_adj, lower, upper, reject = comparison\n",
    "\n",
    "    # Append posthoc result to DataFrame (using pd.concat instead of append)\n",
    "    ttukeyHSD_df = pd.DataFrame([{\n",
    "        'Figure': f'Figure{figure_key}',\n",
    "        'variable':'Total number of TRAP cells',\n",
    "        'Type of Test': 'Tukey HSD',\n",
    "        'Detail': f'{group1} vs {group2}',\n",
    "        'statistic description': 'meandiff',\n",
    "        'statistic': meandiff,\n",
    "        'p Value': p_adj\n",
    "    }])\n",
    "\n",
    "    # Concatenate the new data with the existing results DataFrame\n",
    "    manuscript_statistic_file = pd.concat([manuscript_statistic_file, ttukeyHSD_df], ignore_index=True)"
   ]
  },
  {
   "cell_type": "markdown",
   "metadata": {},
   "source": [
    "## Figure S9J"
   ]
  },
  {
   "cell_type": "code",
   "execution_count": 21,
   "metadata": {},
   "outputs": [
    {
     "name": "stderr",
     "output_type": "stream",
     "text": [
      "C:\\Users\\stuberadmin\\AppData\\Local\\Temp;\\ipykernel_16704\\2506109169.py:7: FutureWarning: Passing `palette` without assigning `hue` is deprecated.\n",
      "  sns.swarmplot(data = antibody_summary,x = 'Stim',y = variable,ax = axs,order = ['Appetitive','Consummatory','Post_ejaculatory'],\n"
     ]
    },
    {
     "data": {
      "image/png": "[encoded data removed]",
      "text/plain": [
       "<Figure size 120x210 with 1 Axes>"
      ]
     },
     "metadata": {},
     "output_type": "display_data"
    }
   ],
   "source": [
    "variable = 'proportion_cFos_cells'\n",
    "figure_key = 'S9J'\n",
    "\n",
    "fig,axs = plt.subplots(1,1,figsize = (1.2,2.1))\n",
    "sns.barplot(data = antibody_summary,x = 'Stim',y = variable,ax = axs,order = ['Appetitive','Consummatory','Post_ejaculatory'],\n",
    "errwidth = 1,palette = ['green','blue','orange'],color= 'k')\n",
    "sns.swarmplot(data = antibody_summary,x = 'Stim',y = variable,ax = axs,order = ['Appetitive','Consummatory','Post_ejaculatory'],\n",
    "facecolors='none',palette = ['lime','cyan','orangered'], marker=\"$\\circ$\", ec=\"face\",s = 8)\n",
    "sns.despine()\n",
    "axs.set_xticklabels(['App.','Cons.','Post-ejac.'],rotation = -45)\n",
    "axs.set_xlabel('')\n",
    "axs.set_ylabel('Proportion of c-Fos+ cells')\n",
    "fig.savefig(os.path.join(figurepath,f'Figure{figure_key}.png'),dpi = 216,bbox_inches ='tight')\n",
    "fig.savefig(os.path.join(figurepath,f'Figure{figure_key}.pdf'),bbox_inches ='tight')"
   ]
  },
  {
   "cell_type": "code",
   "execution_count": 22,
   "metadata": {},
   "outputs": [
    {
     "name": "stdout",
     "output_type": "stream",
     "text": [
      "            sum_sq    df         F    PR(>F)\n",
      "C(Stim)   0.009327   2.0  3.128523  0.069679\n",
      "Residual  0.025342  17.0       NaN       NaN\n",
      "        Multiple Comparison of Means - Tukey HSD, FWER=0.05        \n",
      "===================================================================\n",
      "   group1         group2      meandiff p-adj   lower  upper  reject\n",
      "-------------------------------------------------------------------\n",
      "  Appetitive     Consummatory  -0.0427 0.1724 -0.1007 0.0153  False\n",
      "  Appetitive Post_ejaculatory   0.0111 0.8445 -0.0401 0.0624  False\n",
      "Consummatory Post_ejaculatory   0.0538 0.0631 -0.0027 0.1103  False\n",
      "-------------------------------------------------------------------\n"
     ]
    }
   ],
   "source": [
    "import statsmodels.api as sm\n",
    "from statsmodels.formula.api import ols\n",
    "from scipy.stats import tukey_hsd\n",
    "from statsmodels.stats.multicomp import pairwise_tukeyhsd\n",
    "import pickle\n",
    "#perform two-way ANOVA\n",
    "model = ols(f'{variable} ~ C(Stim)', data=antibody_summary).fit()\n",
    "#sm.stats.anova_lm(model, typ=2)\n",
    "table = sm.stats.anova_lm(model, typ=2)\n",
    "print(table)\n",
    "# Extract ANOVA results\n",
    "anova_df1 = table['df'].values[0]  # Between-subject df\n",
    "anova_df2 = table['df'].values[1]  # Error df\n",
    "anova_F = table['F'].values[0]\n",
    "anova_p = table['PR(>F)'].values[0]\n",
    "# Append ANOVA result to DataFrame (using pd.concat instead of append)\n",
    "anova_data = pd.DataFrame([{\n",
    "    'Figure': f'Figure{figure_key}',\n",
    "    'variable':'Total number of TRAP cells',\n",
    "    'Type of Test': 'One-way ANOVA',\n",
    "    'Detail': 'across states',\n",
    "    'statistic description': f'F({anova_df1},{anova_df2})',\n",
    "    'statistic': anova_F,\n",
    "    'p Value': anova_p\n",
    "}])\n",
    "\n",
    "# Concatenate the new data with the existing results DataFrame\n",
    "manuscript_statistic_file = pd.concat([manuscript_statistic_file, anova_data], ignore_index=True)\n",
    "# Run Tukey's HSD test\n",
    "tukey_results = pairwise_tukeyhsd(antibody_summary[variable],antibody_summary['Stim'])\n",
    "tukey_summary = tukey_results.summary()\n",
    "print(tukey_summary)\n",
    "# Save the Tukey results to a file\n",
    "with open(os.path.join(statspath, f'Figure{figure_key}_TukeyHSD.pickle'), 'wb') as handle:\n",
    "    pickle.dump(tukey_results, handle, protocol=pickle.HIGHEST_PROTOCOL)\n",
    "\n",
    "# Append Tukey HSD results to DataFrame\n",
    "for comparison in tukey_summary.data[1:]:\n",
    "    group1, group2, meandiff, p_adj, lower, upper, reject = comparison\n",
    "\n",
    "    # Append posthoc result to DataFrame (using pd.concat instead of append)\n",
    "    ttukeyHSD_df = pd.DataFrame([{\n",
    "        'Figure': f'Figure{figure_key}',\n",
    "        'variable':'Total number of TRAP cells',\n",
    "        'Type of Test': 'Tukey HSD',\n",
    "        'Detail': f'{group1} vs {group2}',\n",
    "        'statistic description': 'meandiff',\n",
    "        'statistic': meandiff,\n",
    "        'p Value': p_adj\n",
    "    }])\n",
    "\n",
    "    # Concatenate the new data with the existing results DataFrame\n",
    "    manuscript_statistic_file = pd.concat([manuscript_statistic_file, ttukeyHSD_df], ignore_index=True)"
   ]
  },
  {
   "cell_type": "markdown",
   "metadata": {},
   "source": [
    "## Figure S9K"
   ]
  },
  {
   "cell_type": "code",
   "execution_count": 23,
   "metadata": {},
   "outputs": [
    {
     "name": "stderr",
     "output_type": "stream",
     "text": [
      "C:\\Users\\stuberadmin\\AppData\\Local\\Temp;\\ipykernel_16704\\3405672734.py:7: FutureWarning: Passing `palette` without assigning `hue` is deprecated.\n",
      "  sns.swarmplot(data = antibody_summary,x = 'Stim',y = variable,ax = axs,order = ['Appetitive','Consummatory','Post_ejaculatory'],\n",
      "c:\\Users\\stuberadmin\\anaconda3\\envs\\cellpose\\lib\\site-packages\\seaborn\\categorical.py:3544: UserWarning: 12.5% of the points cannot be placed; you may want to decrease the size of the markers or use stripplot.\n",
      "  warnings.warn(msg, UserWarning)\n"
     ]
    },
    {
     "data": {
      "image/png": "[encoded data removed]",
      "text/plain": [
       "<Figure size 120x210 with 1 Axes>"
      ]
     },
     "metadata": {},
     "output_type": "display_data"
    }
   ],
   "source": [
    "variable = 'Accuracy'\n",
    "figure_key = 'S9K'\n",
    "\n",
    "fig,axs = plt.subplots(1,1,figsize = (1.2,2.1))\n",
    "sns.barplot(data = antibody_summary,x = 'Stim',y = variable,ax = axs,order = ['Appetitive','Consummatory','Post_ejaculatory'],\n",
    "errwidth = 1,palette = ['green','blue','orange'],color= 'k')\n",
    "sns.swarmplot(data = antibody_summary,x = 'Stim',y = variable,ax = axs,order = ['Appetitive','Consummatory','Post_ejaculatory'],\n",
    "facecolors='none',palette = ['lime','cyan','orangered'], marker=\"$\\circ$\", ec=\"face\",s = 8)\n",
    "sns.despine()\n",
    "axs.set_xticklabels(['App.','Cons.','Post-ejac.'],rotation = -45)\n",
    "axs.set_xlabel('')\n",
    "axs.set_ylabel('Proportion of c-Fos+ cells')\n",
    "fig.savefig(os.path.join(figurepath,f'Figure{figure_key}.png'),dpi = 216,bbox_inches ='tight')\n",
    "fig.savefig(os.path.join(figurepath,f'Figure{figure_key}.pdf'),bbox_inches ='tight')"
   ]
  },
  {
   "cell_type": "code",
   "execution_count": 24,
   "metadata": {},
   "outputs": [
    {
     "name": "stdout",
     "output_type": "stream",
     "text": [
      "            sum_sq    df         F    PR(>F)\n",
      "C(Stim)   0.039638   2.0  0.466618  0.634917\n",
      "Residual  0.722050  17.0       NaN       NaN\n",
      "        Multiple Comparison of Means - Tukey HSD, FWER=0.05        \n",
      "===================================================================\n",
      "   group1         group2      meandiff p-adj   lower  upper  reject\n",
      "-------------------------------------------------------------------\n",
      "  Appetitive     Consummatory  -0.1134 0.6234  -0.423 0.1962  False\n",
      "  Appetitive Post_ejaculatory  -0.0683 0.8001 -0.3419 0.2053  False\n",
      "Consummatory Post_ejaculatory   0.0451 0.9224 -0.2563 0.3465  False\n",
      "-------------------------------------------------------------------\n"
     ]
    }
   ],
   "source": [
    "import statsmodels.api as sm\n",
    "from statsmodels.formula.api import ols\n",
    "from scipy.stats import tukey_hsd\n",
    "from statsmodels.stats.multicomp import pairwise_tukeyhsd\n",
    "import pickle\n",
    "#perform two-way ANOVA\n",
    "model = ols(f'{variable} ~ C(Stim)', data=antibody_summary).fit()\n",
    "#sm.stats.anova_lm(model, typ=2)\n",
    "table = sm.stats.anova_lm(model, typ=2)\n",
    "print(table)\n",
    "# Extract ANOVA results\n",
    "anova_df1 = table['df'].values[0]  # Between-subject df\n",
    "anova_df2 = table['df'].values[1]  # Error df\n",
    "anova_F = table['F'].values[0]\n",
    "anova_p = table['PR(>F)'].values[0]\n",
    "# Append ANOVA result to DataFrame (using pd.concat instead of append)\n",
    "anova_data = pd.DataFrame([{\n",
    "    'Figure': f'Figure{figure_key}',\n",
    "    'variable':'Total number of TRAP cells',\n",
    "    'Type of Test': 'One-way ANOVA',\n",
    "    'Detail': 'across states',\n",
    "    'statistic description': f'F({anova_df1},{anova_df2})',\n",
    "    'statistic': anova_F,\n",
    "    'p Value': anova_p\n",
    "}])\n",
    "\n",
    "# Concatenate the new data with the existing results DataFrame\n",
    "manuscript_statistic_file = pd.concat([manuscript_statistic_file, anova_data], ignore_index=True)\n",
    "# Run Tukey's HSD test\n",
    "tukey_results = pairwise_tukeyhsd(antibody_summary[variable],antibody_summary['Stim'])\n",
    "tukey_summary = tukey_results.summary()\n",
    "print(tukey_summary)\n",
    "# Save the Tukey results to a file\n",
    "with open(os.path.join(statspath, f'Figure{figure_key}_TukeyHSD.pickle'), 'wb') as handle:\n",
    "    pickle.dump(tukey_results, handle, protocol=pickle.HIGHEST_PROTOCOL)\n",
    "\n",
    "# Append Tukey HSD results to DataFrame\n",
    "for comparison in tukey_summary.data[1:]:\n",
    "    group1, group2, meandiff, p_adj, lower, upper, reject = comparison\n",
    "\n",
    "    # Append posthoc result to DataFrame (using pd.concat instead of append)\n",
    "    ttukeyHSD_df = pd.DataFrame([{\n",
    "        'Figure': f'Figure{figure_key}',\n",
    "        'variable':'Total number of TRAP cells',\n",
    "        'Type of Test': 'Tukey HSD',\n",
    "        'Detail': f'{group1} vs {group2}',\n",
    "        'statistic description': 'meandiff',\n",
    "        'statistic': meandiff,\n",
    "        'p Value': p_adj\n",
    "    }])\n",
    "\n",
    "    # Concatenate the new data with the existing results DataFrame\n",
    "    manuscript_statistic_file = pd.concat([manuscript_statistic_file, ttukeyHSD_df], ignore_index=True)"
   ]
  },
  {
   "cell_type": "markdown",
   "metadata": {},
   "source": [
    "## Figure S9L"
   ]
  },
  {
   "cell_type": "code",
   "execution_count": 25,
   "metadata": {},
   "outputs": [
    {
     "name": "stderr",
     "output_type": "stream",
     "text": [
      "C:\\Users\\stuberadmin\\AppData\\Local\\Temp;\\ipykernel_16704\\4079880096.py:7: FutureWarning: Passing `palette` without assigning `hue` is deprecated.\n",
      "  sns.swarmplot(data = antibody_summary,x = 'Stim',y = variable,ax = axs,order = ['Appetitive','Consummatory','Post_ejaculatory'],\n",
      "c:\\Users\\stuberadmin\\anaconda3\\envs\\cellpose\\lib\\site-packages\\seaborn\\categorical.py:3544: UserWarning: 14.3% of the points cannot be placed; you may want to decrease the size of the markers or use stripplot.\n",
      "  warnings.warn(msg, UserWarning)\n",
      "c:\\Users\\stuberadmin\\anaconda3\\envs\\cellpose\\lib\\site-packages\\seaborn\\categorical.py:3544: UserWarning: 20.0% of the points cannot be placed; you may want to decrease the size of the markers or use stripplot.\n",
      "  warnings.warn(msg, UserWarning)\n"
     ]
    },
    {
     "data": {
      "image/png": "[encoded data removed]",
      "text/plain": [
       "<Figure size 120x210 with 1 Axes>"
      ]
     },
     "metadata": {},
     "output_type": "display_data"
    }
   ],
   "source": [
    "variable = 'Efficiency'\n",
    "figure_key = 'S9L'\n",
    "\n",
    "fig,axs = plt.subplots(1,1,figsize = (1.2,2.1))\n",
    "sns.barplot(data = antibody_summary,x = 'Stim',y = variable,ax = axs,order = ['Appetitive','Consummatory','Post_ejaculatory'],\n",
    "errwidth = 1,palette = ['green','blue','orange'],color= 'k')\n",
    "sns.swarmplot(data = antibody_summary,x = 'Stim',y = variable,ax = axs,order = ['Appetitive','Consummatory','Post_ejaculatory'],\n",
    "facecolors='none',palette = ['lime','cyan','orangered'], marker=\"$\\circ$\", ec=\"face\",s = 8)\n",
    "sns.despine()\n",
    "axs.set_xticklabels(['App.','Cons.','Post-ejac.'],rotation = -45)\n",
    "axs.set_xlabel('')\n",
    "axs.set_ylabel('Proportion of c-Fos+ cells')\n",
    "fig.savefig(os.path.join(figurepath,f'Figure{figure_key}.png'),dpi = 216,bbox_inches ='tight')\n",
    "fig.savefig(os.path.join(figurepath,f'Figure{figure_key}.pdf'),bbox_inches ='tight')"
   ]
  },
  {
   "cell_type": "code",
   "execution_count": 26,
   "metadata": {},
   "outputs": [
    {
     "name": "stdout",
     "output_type": "stream",
     "text": [
      "            sum_sq    df         F    PR(>F)\n",
      "C(Stim)   0.028754   2.0  2.831305  0.086832\n",
      "Residual  0.086323  17.0       NaN       NaN\n",
      "        Multiple Comparison of Means - Tukey HSD, FWER=0.05        \n",
      "===================================================================\n",
      "   group1         group2      meandiff p-adj   lower  upper  reject\n",
      "-------------------------------------------------------------------\n",
      "  Appetitive     Consummatory    0.018 0.9028  -0.089 0.1251  False\n",
      "  Appetitive Post_ejaculatory   0.0836 0.0882  -0.011 0.1782  False\n",
      "Consummatory Post_ejaculatory   0.0656 0.2666 -0.0386 0.1698  False\n",
      "-------------------------------------------------------------------\n"
     ]
    }
   ],
   "source": [
    "import statsmodels.api as sm\n",
    "from statsmodels.formula.api import ols\n",
    "from scipy.stats import tukey_hsd\n",
    "from statsmodels.stats.multicomp import pairwise_tukeyhsd\n",
    "import pickle\n",
    "#perform two-way ANOVA\n",
    "model = ols(f'{variable} ~ C(Stim)', data=antibody_summary).fit()\n",
    "#sm.stats.anova_lm(model, typ=2)\n",
    "table = sm.stats.anova_lm(model, typ=2)\n",
    "print(table)\n",
    "# Extract ANOVA results\n",
    "anova_df1 = table['df'].values[0]  # Between-subject df\n",
    "anova_df2 = table['df'].values[1]  # Error df\n",
    "anova_F = table['F'].values[0]\n",
    "anova_p = table['PR(>F)'].values[0]\n",
    "# Append ANOVA result to DataFrame (using pd.concat instead of append)\n",
    "anova_data = pd.DataFrame([{\n",
    "    'Figure': f'Figure{figure_key}',\n",
    "    'variable':'Total number of TRAP cells',\n",
    "    'Type of Test': 'One-way ANOVA',\n",
    "    'Detail': 'across states',\n",
    "    'statistic description': f'F({anova_df1},{anova_df2})',\n",
    "    'statistic': anova_F,\n",
    "    'p Value': anova_p\n",
    "}])\n",
    "\n",
    "# Concatenate the new data with the existing results DataFrame\n",
    "manuscript_statistic_file = pd.concat([manuscript_statistic_file, anova_data], ignore_index=True)\n",
    "# Run Tukey's HSD test\n",
    "tukey_results = pairwise_tukeyhsd(antibody_summary[variable],antibody_summary['Stim'])\n",
    "tukey_summary = tukey_results.summary()\n",
    "print(tukey_summary)\n",
    "# Save the Tukey results to a file\n",
    "with open(os.path.join(statspath, f'Figure{figure_key}_TukeyHSD.pickle'), 'wb') as handle:\n",
    "    pickle.dump(tukey_results, handle, protocol=pickle.HIGHEST_PROTOCOL)\n",
    "\n",
    "# Append Tukey HSD results to DataFrame\n",
    "for comparison in tukey_summary.data[1:]:\n",
    "    group1, group2, meandiff, p_adj, lower, upper, reject = comparison\n",
    "\n",
    "    # Append posthoc result to DataFrame (using pd.concat instead of append)\n",
    "    ttukeyHSD_df = pd.DataFrame([{\n",
    "        'Figure': f'Figure{figure_key}',\n",
    "        'variable':'Total number of TRAP cells',\n",
    "        'Type of Test': 'Tukey HSD',\n",
    "        'Detail': f'{group1} vs {group2}',\n",
    "        'statistic description': 'meandiff',\n",
    "        'statistic': meandiff,\n",
    "        'p Value': p_adj\n",
    "    }])\n",
    "\n",
    "    # Concatenate the new data with the existing results DataFrame\n",
    "    manuscript_statistic_file = pd.concat([manuscript_statistic_file, ttukeyHSD_df], ignore_index=True)"
   ]
  },
  {
   "cell_type": "code",
   "execution_count": 27,
   "metadata": {},
   "outputs": [],
   "source": [
    "# Write the stats\n",
    "manuscript_statistic_file.to_csv(manuscript_statistic_filepath,index = False)"
   ]
  }
 ],
 "metadata": {
  "kernelspec": {
   "display_name": "cellpose",
   "language": "python",
   "name": "python3"
  },
  "language_info": {
   "codemirror_mode": {
    "name": "ipython",
    "version": 3
   },
   "file_extension": ".py",
   "mimetype": "text/x-python",
   "name": "python",
   "nbconvert_exporter": "python",
   "pygments_lexer": "ipython3",
   "version": "3.8.17"
  },
  "orig_nbformat": 4
 },
 "nbformat": 4,
 "nbformat_minor": 2
}
